{
 "cells": [
  {
   "cell_type": "markdown",
   "metadata": {},
   "source": [
    "### Setup"
   ]
  },
  {
   "cell_type": "code",
   "execution_count": 1,
   "metadata": {
    "scrolled": true
   },
   "outputs": [
    {
     "name": "stderr",
     "output_type": "stream",
     "text": [
      "Loading required package: gplots\n",
      "\n",
      "Attaching package: ‘gplots’\n",
      "\n",
      "The following object is masked from ‘package:stats’:\n",
      "\n",
      "    lowess\n",
      "\n",
      "Loading required package: leaps\n",
      "Loading required package: magrittr\n",
      "Loading required package: lattice\n"
     ]
    }
   ],
   "source": [
    "# bibliotecas\n",
    "#install.packages(\"ROCR\")\n",
    "#install.packages(\"leaps\")\n",
    "#install.packages(\"ggplot2\")\n",
    "#install.packages(\"ggpubr\")\n",
    "#install.packages(\"caret\")\n",
    "library(ROCR)\n",
    "require(leaps)\n",
    "library(ggplot2)\n",
    "library(ggpubr)\n",
    "library(caret)"
   ]
  },
  {
   "cell_type": "markdown",
   "metadata": {},
   "source": [
    "### Aquisição dos dados"
   ]
  },
  {
   "cell_type": "code",
   "execution_count": 2,
   "metadata": {
    "scrolled": true
   },
   "outputs": [],
   "source": [
    "file_name <- \"noshow_4000+_natual_trans\"\n",
    "#file_name <- \"noshow-201808_trans\"\n",
    "noshowDs <- read.csv(paste(file_name, \".csv\", sep = \"\"), sep = \";\", header = TRUE, fileEncoding = \"ISO-8859-1\")"
   ]
  },
  {
   "cell_type": "markdown",
   "metadata": {},
   "source": [
    "### Modelagem"
   ]
  },
  {
   "cell_type": "code",
   "execution_count": 3,
   "metadata": {
    "scrolled": true
   },
   "outputs": [],
   "source": [
    "# garante a repetição do experimento\n",
    "set.seed(1984)"
   ]
  },
  {
   "cell_type": "code",
   "execution_count": 4,
   "metadata": {
    "scrolled": true
   },
   "outputs": [],
   "source": [
    "# criação dos conjuntos de teste (30%) e treinamento\n",
    "T <- sample(1:nrow(noshowDs), round(.3 * nrow(noshowDs)))\n",
    "noshowDs_test <- noshowDs[T, ]\n",
    "noshowDs_train <- noshowDs[-T, ]"
   ]
  },
  {
   "cell_type": "code",
   "execution_count": 5,
   "metadata": {
    "scrolled": true
   },
   "outputs": [
    {
     "name": "stdout",
     "output_type": "stream",
     "text": [
      "Start:  AIC=1788.74\n",
      "IsNoShow ~ Idade + GeneroPaciente + IsPacienteUnicoAtendimento + \n",
      "    IsNovoPaciente + LeadTime + Mes + DiaSemana + Hora + IsPacientePossuiFone + \n",
      "    QtdRedesSociais + IsPacientePossuiEmail + IsParticular + \n",
      "    GeneroExecutante + QtdNoShowPaciente + QtdAgendamentosPaciente + \n",
      "    RazaoNoShowPaciente\n",
      "\n",
      "                             Df Deviance    AIC\n",
      "- GeneroPaciente              2   1750.9 1784.9\n",
      "- IsNovoPaciente              1   1750.7 1786.7\n",
      "- Idade                       1   1750.8 1786.8\n",
      "- IsPacientePossuiEmail       1   1750.8 1786.8\n",
      "- IsPacientePossuiFone        1   1750.9 1786.9\n",
      "- QtdRedesSociais             1   1751.0 1787.0\n",
      "- Mes                         1   1751.4 1787.4\n",
      "- IsPacienteUnicoAtendimento  1   1751.4 1787.4\n",
      "- QtdAgendamentosPaciente     1   1752.0 1788.0\n",
      "- Hora                        1   1752.1 1788.1\n",
      "<none>                            1750.7 1788.7\n",
      "- LeadTime                    1   1752.8 1788.8\n",
      "- QtdNoShowPaciente           1   1753.8 1789.8\n",
      "- GeneroExecutante            2   1755.9 1789.9\n",
      "- DiaSemana                   1   1755.5 1791.5\n",
      "- IsParticular                1   1758.1 1794.1\n",
      "- RazaoNoShowPaciente         1   2094.7 2130.7\n",
      "\n",
      "Step:  AIC=1784.93\n",
      "IsNoShow ~ Idade + IsPacienteUnicoAtendimento + IsNovoPaciente + \n",
      "    LeadTime + Mes + DiaSemana + Hora + IsPacientePossuiFone + \n",
      "    QtdRedesSociais + IsPacientePossuiEmail + IsParticular + \n",
      "    GeneroExecutante + QtdNoShowPaciente + QtdAgendamentosPaciente + \n",
      "    RazaoNoShowPaciente\n",
      "\n",
      "                             Df Deviance    AIC\n",
      "- IsNovoPaciente              1   1750.9 1782.9\n",
      "- Idade                       1   1751.0 1783.0\n",
      "- IsPacientePossuiEmail       1   1751.0 1783.0\n",
      "- IsPacientePossuiFone        1   1751.0 1783.0\n",
      "- QtdRedesSociais             1   1751.2 1783.2\n",
      "- Mes                         1   1751.5 1783.5\n",
      "- IsPacienteUnicoAtendimento  1   1751.6 1783.6\n",
      "- QtdAgendamentosPaciente     1   1752.2 1784.2\n",
      "- Hora                        1   1752.3 1784.3\n",
      "<none>                            1750.9 1784.9\n",
      "- LeadTime                    1   1753.0 1785.0\n",
      "- QtdNoShowPaciente           1   1754.0 1786.0\n",
      "- GeneroExecutante            2   1756.2 1786.2\n",
      "- DiaSemana                   1   1755.7 1787.7\n",
      "- IsParticular                1   1758.3 1790.3\n",
      "- RazaoNoShowPaciente         1   2095.1 2127.1\n",
      "\n",
      "Step:  AIC=1782.93\n",
      "IsNoShow ~ Idade + IsPacienteUnicoAtendimento + LeadTime + Mes + \n",
      "    DiaSemana + Hora + IsPacientePossuiFone + QtdRedesSociais + \n",
      "    IsPacientePossuiEmail + IsParticular + GeneroExecutante + \n",
      "    QtdNoShowPaciente + QtdAgendamentosPaciente + RazaoNoShowPaciente\n",
      "\n",
      "                             Df Deviance    AIC\n",
      "- Idade                       1   1751.0 1781.0\n",
      "- IsPacientePossuiEmail       1   1751.0 1781.0\n",
      "- IsPacientePossuiFone        1   1751.0 1781.0\n",
      "- QtdRedesSociais             1   1751.3 1781.3\n",
      "- Mes                         1   1751.5 1781.5\n",
      "- IsPacienteUnicoAtendimento  1   1751.6 1781.6\n",
      "- QtdAgendamentosPaciente     1   1752.2 1782.2\n",
      "- Hora                        1   1752.3 1782.3\n",
      "<none>                            1750.9 1782.9\n",
      "- LeadTime                    1   1753.0 1783.0\n",
      "- QtdNoShowPaciente           1   1754.1 1784.1\n",
      "- GeneroExecutante            2   1756.2 1784.2\n",
      "- DiaSemana                   1   1755.7 1785.7\n",
      "- IsParticular                1   1758.3 1788.3\n",
      "- RazaoNoShowPaciente         1   2095.1 2125.1\n",
      "\n",
      "Step:  AIC=1780.99\n",
      "IsNoShow ~ IsPacienteUnicoAtendimento + LeadTime + Mes + DiaSemana + \n",
      "    Hora + IsPacientePossuiFone + QtdRedesSociais + IsPacientePossuiEmail + \n",
      "    IsParticular + GeneroExecutante + QtdNoShowPaciente + QtdAgendamentosPaciente + \n",
      "    RazaoNoShowPaciente\n",
      "\n",
      "                             Df Deviance    AIC\n",
      "- IsPacientePossuiEmail       1   1751.1 1779.1\n",
      "- IsPacientePossuiFone        1   1751.1 1779.1\n",
      "- QtdRedesSociais             1   1751.3 1779.3\n",
      "- Mes                         1   1751.6 1779.6\n",
      "- IsPacienteUnicoAtendimento  1   1751.7 1779.7\n",
      "- QtdAgendamentosPaciente     1   1752.3 1780.3\n",
      "- Hora                        1   1752.3 1780.3\n",
      "<none>                            1751.0 1781.0\n",
      "- LeadTime                    1   1753.2 1781.2\n",
      "- QtdNoShowPaciente           1   1754.1 1782.1\n",
      "- GeneroExecutante            2   1756.2 1782.2\n",
      "- DiaSemana                   1   1755.8 1783.8\n",
      "- IsParticular                1   1758.4 1786.4\n",
      "- RazaoNoShowPaciente         1   2095.1 2123.1\n",
      "\n",
      "Step:  AIC=1779.07\n",
      "IsNoShow ~ IsPacienteUnicoAtendimento + LeadTime + Mes + DiaSemana + \n",
      "    Hora + IsPacientePossuiFone + QtdRedesSociais + IsParticular + \n",
      "    GeneroExecutante + QtdNoShowPaciente + QtdAgendamentosPaciente + \n",
      "    RazaoNoShowPaciente\n",
      "\n",
      "                             Df Deviance    AIC\n",
      "- IsPacientePossuiFone        1   1751.2 1777.2\n",
      "- QtdRedesSociais             1   1751.4 1777.4\n",
      "- Mes                         1   1751.7 1777.7\n",
      "- IsPacienteUnicoAtendimento  1   1751.8 1777.8\n",
      "- QtdAgendamentosPaciente     1   1752.3 1778.3\n",
      "- Hora                        1   1752.4 1778.4\n",
      "<none>                            1751.1 1779.1\n",
      "- LeadTime                    1   1753.3 1779.3\n",
      "- QtdNoShowPaciente           1   1754.1 1780.1\n",
      "- GeneroExecutante            2   1756.3 1780.3\n",
      "- DiaSemana                   1   1755.9 1781.9\n",
      "- IsParticular                1   1758.4 1784.4\n",
      "- RazaoNoShowPaciente         1   2096.1 2122.1\n",
      "\n",
      "Step:  AIC=1777.19\n",
      "IsNoShow ~ IsPacienteUnicoAtendimento + LeadTime + Mes + DiaSemana + \n",
      "    Hora + QtdRedesSociais + IsParticular + GeneroExecutante + \n",
      "    QtdNoShowPaciente + QtdAgendamentosPaciente + RazaoNoShowPaciente\n",
      "\n",
      "                             Df Deviance    AIC\n",
      "- QtdRedesSociais             1   1751.5 1775.5\n",
      "- Mes                         1   1751.8 1775.8\n",
      "- IsPacienteUnicoAtendimento  1   1752.0 1776.0\n",
      "- QtdAgendamentosPaciente     1   1752.4 1776.4\n",
      "- Hora                        1   1752.5 1776.5\n",
      "<none>                            1751.2 1777.2\n",
      "- LeadTime                    1   1753.4 1777.4\n",
      "- QtdNoShowPaciente           1   1754.2 1778.2\n",
      "- GeneroExecutante            2   1756.5 1778.5\n",
      "- DiaSemana                   1   1756.0 1780.0\n",
      "- IsParticular                1   1758.5 1782.5\n",
      "- RazaoNoShowPaciente         1   2098.1 2122.1\n",
      "\n",
      "Step:  AIC=1775.48\n",
      "IsNoShow ~ IsPacienteUnicoAtendimento + LeadTime + Mes + DiaSemana + \n",
      "    Hora + IsParticular + GeneroExecutante + QtdNoShowPaciente + \n",
      "    QtdAgendamentosPaciente + RazaoNoShowPaciente\n",
      "\n",
      "                             Df Deviance    AIC\n",
      "- Mes                         1   1752.1 1774.1\n",
      "- IsPacienteUnicoAtendimento  1   1752.2 1774.2\n",
      "- QtdAgendamentosPaciente     1   1752.7 1774.7\n",
      "- Hora                        1   1752.9 1774.9\n",
      "<none>                            1751.5 1775.5\n",
      "- LeadTime                    1   1753.7 1775.7\n",
      "- QtdNoShowPaciente           1   1754.4 1776.4\n",
      "- GeneroExecutante            2   1756.6 1776.6\n",
      "- DiaSemana                   1   1756.4 1778.4\n",
      "- IsParticular                1   1758.6 1780.6\n",
      "- RazaoNoShowPaciente         1   2098.2 2120.2\n",
      "\n",
      "Step:  AIC=1774.14\n",
      "IsNoShow ~ IsPacienteUnicoAtendimento + LeadTime + DiaSemana + \n",
      "    Hora + IsParticular + GeneroExecutante + QtdNoShowPaciente + \n",
      "    QtdAgendamentosPaciente + RazaoNoShowPaciente\n",
      "\n",
      "                             Df Deviance    AIC\n",
      "- IsPacienteUnicoAtendimento  1   1752.8 1772.8\n",
      "- QtdAgendamentosPaciente     1   1753.3 1773.3\n",
      "- Hora                        1   1753.5 1773.5\n",
      "<none>                            1752.1 1774.1\n",
      "- LeadTime                    1   1754.3 1774.3\n",
      "- QtdNoShowPaciente           1   1754.9 1774.9\n",
      "- GeneroExecutante            2   1757.4 1775.4\n",
      "- DiaSemana                   1   1757.0 1777.0\n",
      "- IsParticular                1   1759.3 1779.3\n",
      "- RazaoNoShowPaciente         1   2098.7 2118.7\n",
      "\n",
      "Step:  AIC=1772.8\n",
      "IsNoShow ~ LeadTime + DiaSemana + Hora + IsParticular + GeneroExecutante + \n",
      "    QtdNoShowPaciente + QtdAgendamentosPaciente + RazaoNoShowPaciente\n",
      "\n",
      "                          Df Deviance    AIC\n",
      "- Hora                     1   1754.2 1772.2\n",
      "- QtdAgendamentosPaciente  1   1754.6 1772.6\n",
      "<none>                         1752.8 1772.8\n",
      "- LeadTime                 1   1754.9 1772.9\n",
      "- QtdNoShowPaciente        1   1755.8 1773.8\n",
      "- GeneroExecutante         2   1758.2 1774.2\n",
      "- DiaSemana                1   1757.6 1775.6\n",
      "- IsParticular             1   1760.1 1778.1\n",
      "- RazaoNoShowPaciente      1   2098.7 2116.7\n",
      "\n",
      "Step:  AIC=1772.16\n",
      "IsNoShow ~ LeadTime + DiaSemana + IsParticular + GeneroExecutante + \n",
      "    QtdNoShowPaciente + QtdAgendamentosPaciente + RazaoNoShowPaciente\n",
      "\n",
      "                          Df Deviance    AIC\n",
      "<none>                         1754.2 1772.2\n",
      "- QtdAgendamentosPaciente  1   1756.4 1772.4\n",
      "- LeadTime                 1   1757.1 1773.1\n",
      "- QtdNoShowPaciente        1   1757.4 1773.4\n",
      "- GeneroExecutante         2   1759.5 1773.5\n",
      "- DiaSemana                1   1759.7 1775.7\n",
      "- IsParticular             1   1761.1 1777.1\n",
      "- RazaoNoShowPaciente      1   2100.0 2116.0\n"
     ]
    }
   ],
   "source": [
    "# ajsuta um modelo de regressão logística sobre todos os parâmetros do conjunto de treinamento\n",
    "# usa a função step para comparar diferentes arranjos entre as variáeveis preditoras\n",
    "completo <- IsNoShow ~ .\n",
    "fit <- glm(completo, data=noshowDs_train, family = binomial, control = list(maxit = 25))\n",
    "fit <- step(fit, data = noshowDs_train)"
   ]
  },
  {
   "cell_type": "code",
   "execution_count": 6,
   "metadata": {},
   "outputs": [
    {
     "data": {
      "text/plain": [
       "\n",
       "Call:\n",
       "glm(formula = IsNoShow ~ LeadTime + DiaSemana + IsParticular + \n",
       "    GeneroExecutante + QtdNoShowPaciente + QtdAgendamentosPaciente + \n",
       "    RazaoNoShowPaciente, family = binomial, data = noshowDs_train, \n",
       "    control = list(maxit = 25))\n",
       "\n",
       "Deviance Residuals: \n",
       "    Min       1Q   Median       3Q      Max  \n",
       "-2.3127  -0.4123  -0.3333  -0.2876   2.5782  \n",
       "\n",
       "Coefficients:\n",
       "                        Estimate Std. Error z value Pr(>|z|)    \n",
       "(Intercept)             -3.11447    0.27025 -11.525  < 2e-16 ***\n",
       "LeadTime                 0.06076    0.03502   1.735  0.08271 .  \n",
       "DiaSemana                0.09460    0.04034   2.345  0.01901 *  \n",
       "IsParticularTRUE         0.72137    0.26110   2.763  0.00573 ** \n",
       "GeneroExecutanteM       -0.30984    0.13663  -2.268  0.02334 *  \n",
       "GeneroExecutanteN        0.51166    1.30197   0.393  0.69433    \n",
       "QtdNoShowPaciente        0.11869    0.07015   1.692  0.09064 .  \n",
       "QtdAgendamentosPaciente -0.02439    0.01872  -1.303  0.19266    \n",
       "RazaoNoShowPaciente      6.26727    0.38488  16.284  < 2e-16 ***\n",
       "---\n",
       "Signif. codes:  0 ‘***’ 0.001 ‘**’ 0.01 ‘*’ 0.05 ‘.’ 0.1 ‘ ’ 1\n",
       "\n",
       "(Dispersion parameter for binomial family taken to be 1)\n",
       "\n",
       "    Null deviance: 2924.9  on 2859  degrees of freedom\n",
       "Residual deviance: 1754.2  on 2851  degrees of freedom\n",
       "AIC: 1772.2\n",
       "\n",
       "Number of Fisher Scoring iterations: 5\n"
      ]
     },
     "metadata": {},
     "output_type": "display_data"
    }
   ],
   "source": [
    "summary(fit)"
   ]
  },
  {
   "cell_type": "code",
   "execution_count": 7,
   "metadata": {
    "scrolled": true
   },
   "outputs": [
    {
     "data": {
      "image/png": "[encoded data removed]",
      "text/plain": [
       "plot without title"
      ]
     },
     "metadata": {},
     "output_type": "display_data"
    },
    {
     "data": {
      "image/png": "[encoded data removed]",
      "text/plain": [
       "plot without title"
      ]
     },
     "metadata": {},
     "output_type": "display_data"
    }
   ],
   "source": [
    "subsets <- regsubsets(completo, nbest = 2, data = noshowDs_train)\n",
    "plot(subsets)\n",
    "\n",
    "subsets_summary <- summary(subsets)\n",
    "subsets_summary_df <- data.frame(\n",
    "    np = as.numeric(rownames(subsets_summary$which)) + 1,\n",
    "    cp = subsets_summary$cp,\n",
    "    adjr2 = subsets_summary$adjr2,\n",
    "    s2 = subsets_summary$rss\n",
    ")\n",
    "g1 <- ggplot(data = subsets_summary_df, aes(x = np, y = cp)) + geom_point() + ylab(\"Estatística Cp\") + xlab(\"Num. parâmetros\") + theme_pubr() + labs_pubr()\n",
    "g2 <- ggplot(data = subsets_summary_df, aes(x = np, y = s2)) + geom_point() + ylab(\"s2\") + xlab(\"Num. parâmetros\") + theme_pubr() + labs_pubr()\n",
    "g3 <- ggplot(data = subsets_summary_df, aes(x = np, y = adjr2)) + geom_point() + ylab(\"adjr2\") + xlab(\"Num. parâmetros\") + theme_pubr() + labs_pubr()\n",
    "ggarrange(g1, g2, g3, ncol = 2, nrow = 2)"
   ]
  },
  {
   "cell_type": "code",
   "execution_count": 8,
   "metadata": {},
   "outputs": [],
   "source": [
    "#fit <- glm(IsNoShow ~ IsNovoPaciente + LeadTime + Mes + QtdAgendamentosPaciente + RazaoNoShowPaciente, data=noshowDs_train, family = binomial)"
   ]
  },
  {
   "cell_type": "code",
   "execution_count": 9,
   "metadata": {},
   "outputs": [],
   "source": [
    "# aplica o modelo para predição no conjunto de teste\n",
    "#fit$xlevels[[\"EnderecoBairroPaciente\"]] <- union(fit$xlevels[[\"EnderecoBairroPaciente\"]], levels(noshowDs_test$EnderecoBairroPaciente))\n",
    "predict_test <- predict(fit, newdata = noshowDs_test, type = \"response\") > .5"
   ]
  },
  {
   "cell_type": "code",
   "execution_count": 10,
   "metadata": {
    "scrolled": false
   },
   "outputs": [
    {
     "data": {
      "text/plain": [
       "Confusion Matrix and Statistics\n",
       "\n",
       "          Reference\n",
       "Prediction TRUE FALSE\n",
       "     TRUE   145    37\n",
       "     FALSE  130   914\n",
       "                                          \n",
       "               Accuracy : 0.8638          \n",
       "                 95% CI : (0.8433, 0.8825)\n",
       "    No Information Rate : 0.7757          \n",
       "    P-Value [Acc > NIR] : 3.648e-15       \n",
       "                                          \n",
       "                  Kappa : 0.5551          \n",
       "                                          \n",
       " Mcnemar's Test P-Value : 1.086e-12       \n",
       "                                          \n",
       "            Sensitivity : 0.5273          \n",
       "            Specificity : 0.9611          \n",
       "         Pos Pred Value : 0.7967          \n",
       "         Neg Pred Value : 0.8755          \n",
       "             Prevalence : 0.2243          \n",
       "         Detection Rate : 0.1183          \n",
       "   Detection Prevalence : 0.1485          \n",
       "      Balanced Accuracy : 0.7442          \n",
       "                                          \n",
       "       'Positive' Class : TRUE            \n",
       "                                          "
      ]
     },
     "metadata": {},
     "output_type": "display_data"
    }
   ],
   "source": [
    "# Matriz de confusão do modelo e acurácia do modelo\n",
    "caret::confusionMatrix(\n",
    "    factor(predict_test, levels = c(\"TRUE\", \"FALSE\")), \n",
    "    factor(noshowDs_test$IsNoShow, levels = c(\"TRUE\", \"FALSE\")), \n",
    "    positive = \"TRUE\"\n",
    ")"
   ]
  },
  {
   "cell_type": "code",
   "execution_count": 11,
   "metadata": {
    "scrolled": true
   },
   "outputs": [
    {
     "data": {
      "image/png": "[encoded data removed]",
      "text/plain": [
       "plot without title"
      ]
     },
     "metadata": {},
     "output_type": "display_data"
    }
   ],
   "source": [
    "# curva ROC\n",
    "pr <- prediction(as.numeric(predict_test), as.numeric(noshowDs_test$IsNoShow))\n",
    "prf <- performance(pr, measure = \"tpr\", x.measure = \"fpr\")\n",
    "plot(prf, colorize = TRUE)"
   ]
  },
  {
   "cell_type": "code",
   "execution_count": 12,
   "metadata": {},
   "outputs": [
    {
     "data": {
      "text/html": [
       "0.744183156485996"
      ],
      "text/latex": [
       "0.744183156485996"
      ],
      "text/markdown": [
       "0.744183156485996"
      ],
      "text/plain": [
       "[1] 0.7441832"
      ]
     },
     "metadata": {},
     "output_type": "display_data"
    }
   ],
   "source": [
    "# Area under ROC curve \n",
    "auc=performance(pr, measure=\"auc\")\n",
    "auc=auc@y.values[[1]]\n",
    "auc"
   ]
  },
  {
   "cell_type": "markdown",
   "metadata": {},
   "source": [
    "### Exploração do modelo"
   ]
  },
  {
   "cell_type": "code",
   "execution_count": 13,
   "metadata": {
    "scrolled": true
   },
   "outputs": [
    {
     "data": {
      "text/plain": [
       "\n",
       "Call:\n",
       "glm(formula = IsNoShow ~ LeadTime + DiaSemana + IsParticular + \n",
       "    GeneroExecutante + QtdNoShowPaciente + QtdAgendamentosPaciente + \n",
       "    RazaoNoShowPaciente, family = binomial, data = noshowDs_train, \n",
       "    control = list(maxit = 25))\n",
       "\n",
       "Deviance Residuals: \n",
       "    Min       1Q   Median       3Q      Max  \n",
       "-2.3127  -0.4123  -0.3333  -0.2876   2.5782  \n",
       "\n",
       "Coefficients:\n",
       "                        Estimate Std. Error z value Pr(>|z|)    \n",
       "(Intercept)             -3.11447    0.27025 -11.525  < 2e-16 ***\n",
       "LeadTime                 0.06076    0.03502   1.735  0.08271 .  \n",
       "DiaSemana                0.09460    0.04034   2.345  0.01901 *  \n",
       "IsParticularTRUE         0.72137    0.26110   2.763  0.00573 ** \n",
       "GeneroExecutanteM       -0.30984    0.13663  -2.268  0.02334 *  \n",
       "GeneroExecutanteN        0.51166    1.30197   0.393  0.69433    \n",
       "QtdNoShowPaciente        0.11869    0.07015   1.692  0.09064 .  \n",
       "QtdAgendamentosPaciente -0.02439    0.01872  -1.303  0.19266    \n",
       "RazaoNoShowPaciente      6.26727    0.38488  16.284  < 2e-16 ***\n",
       "---\n",
       "Signif. codes:  0 ‘***’ 0.001 ‘**’ 0.01 ‘*’ 0.05 ‘.’ 0.1 ‘ ’ 1\n",
       "\n",
       "(Dispersion parameter for binomial family taken to be 1)\n",
       "\n",
       "    Null deviance: 2924.9  on 2859  degrees of freedom\n",
       "Residual deviance: 1754.2  on 2851  degrees of freedom\n",
       "AIC: 1772.2\n",
       "\n",
       "Number of Fisher Scoring iterations: 5\n"
      ]
     },
     "metadata": {},
     "output_type": "display_data"
    }
   ],
   "source": [
    "# visualização do modelo\n",
    "summary(fit)"
   ]
  },
  {
   "cell_type": "code",
   "execution_count": 14,
   "metadata": {},
   "outputs": [
    {
     "data": {
      "text/html": [
       "<dl class=dl-horizontal>\n",
       "\t<dt>(Intercept)</dt>\n",
       "\t\t<dd>0.0444019582665619</dd>\n",
       "\t<dt>LeadTime</dt>\n",
       "\t\t<dd>1.06264172576563</dd>\n",
       "\t<dt>DiaSemana</dt>\n",
       "\t\t<dd>1.09921841239807</dd>\n",
       "\t<dt>IsParticularTRUE</dt>\n",
       "\t\t<dd>2.05724902630525</dd>\n",
       "\t<dt>GeneroExecutanteM</dt>\n",
       "\t\t<dd>0.733563406728937</dd>\n",
       "\t<dt>GeneroExecutanteN</dt>\n",
       "\t\t<dd>1.66805909415514</dd>\n",
       "\t<dt>QtdNoShowPaciente</dt>\n",
       "\t\t<dd>1.12602465199684</dd>\n",
       "\t<dt>QtdAgendamentosPaciente</dt>\n",
       "\t\t<dd>0.975904789587646</dd>\n",
       "\t<dt>RazaoNoShowPaciente</dt>\n",
       "\t\t<dd>527.037990699853</dd>\n",
       "</dl>\n"
      ],
      "text/latex": [
       "\\begin{description*}\n",
       "\\item[(Intercept)] 0.0444019582665619\n",
       "\\item[LeadTime] 1.06264172576563\n",
       "\\item[DiaSemana] 1.09921841239807\n",
       "\\item[IsParticularTRUE] 2.05724902630525\n",
       "\\item[GeneroExecutanteM] 0.733563406728937\n",
       "\\item[GeneroExecutanteN] 1.66805909415514\n",
       "\\item[QtdNoShowPaciente] 1.12602465199684\n",
       "\\item[QtdAgendamentosPaciente] 0.975904789587646\n",
       "\\item[RazaoNoShowPaciente] 527.037990699853\n",
       "\\end{description*}\n"
      ],
      "text/markdown": [
       "(Intercept)\n",
       ":   0.0444019582665619LeadTime\n",
       ":   1.06264172576563DiaSemana\n",
       ":   1.09921841239807IsParticularTRUE\n",
       ":   2.05724902630525GeneroExecutanteM\n",
       ":   0.733563406728937GeneroExecutanteN\n",
       ":   1.66805909415514QtdNoShowPaciente\n",
       ":   1.12602465199684QtdAgendamentosPaciente\n",
       ":   0.975904789587646RazaoNoShowPaciente\n",
       ":   527.037990699853\n",
       "\n"
      ],
      "text/plain": [
       "            (Intercept)                LeadTime               DiaSemana \n",
       "             0.04440196              1.06264173              1.09921841 \n",
       "       IsParticularTRUE       GeneroExecutanteM       GeneroExecutanteN \n",
       "             2.05724903              0.73356341              1.66805909 \n",
       "      QtdNoShowPaciente QtdAgendamentosPaciente     RazaoNoShowPaciente \n",
       "             1.12602465              0.97590479            527.03799070 "
      ]
     },
     "metadata": {},
     "output_type": "display_data"
    }
   ],
   "source": [
    "# transformação sobre os parâmetros do modelo\n",
    "exp(coef(fit))"
   ]
  },
  {
   "cell_type": "code",
   "execution_count": 15,
   "metadata": {},
   "outputs": [
    {
     "data": {
      "text/html": [
       "<table>\n",
       "<caption>A data.frame: 8 × 1</caption>\n",
       "<thead>\n",
       "\t<tr><th></th><th scope=col>Overall</th></tr>\n",
       "\t<tr><th></th><th scope=col>&lt;dbl&gt;</th></tr>\n",
       "</thead>\n",
       "<tbody>\n",
       "\t<tr><th scope=row>LeadTime</th><td> 1.7351981</td></tr>\n",
       "\t<tr><th scope=row>DiaSemana</th><td> 2.3452881</td></tr>\n",
       "\t<tr><th scope=row>IsParticularTRUE</th><td> 2.7627601</td></tr>\n",
       "\t<tr><th scope=row>GeneroExecutanteM</th><td> 2.2677556</td></tr>\n",
       "\t<tr><th scope=row>GeneroExecutanteN</th><td> 0.3929895</td></tr>\n",
       "\t<tr><th scope=row>QtdNoShowPaciente</th><td> 1.6920334</td></tr>\n",
       "\t<tr><th scope=row>QtdAgendamentosPaciente</th><td> 1.3027415</td></tr>\n",
       "\t<tr><th scope=row>RazaoNoShowPaciente</th><td>16.2837690</td></tr>\n",
       "</tbody>\n",
       "</table>\n"
      ],
      "text/latex": [
       "A data.frame: 8 × 1\n",
       "\\begin{tabular}{r|l}\n",
       "  & Overall\\\\\n",
       "  & <dbl>\\\\\n",
       "\\hline\n",
       "\tLeadTime &  1.7351981\\\\\n",
       "\tDiaSemana &  2.3452881\\\\\n",
       "\tIsParticularTRUE &  2.7627601\\\\\n",
       "\tGeneroExecutanteM &  2.2677556\\\\\n",
       "\tGeneroExecutanteN &  0.3929895\\\\\n",
       "\tQtdNoShowPaciente &  1.6920334\\\\\n",
       "\tQtdAgendamentosPaciente &  1.3027415\\\\\n",
       "\tRazaoNoShowPaciente & 16.2837690\\\\\n",
       "\\end{tabular}\n"
      ],
      "text/markdown": [
       "\n",
       "A data.frame: 8 × 1\n",
       "\n",
       "| <!--/--> | Overall &lt;dbl&gt; |\n",
       "|---|---|\n",
       "| LeadTime |  1.7351981 |\n",
       "| DiaSemana |  2.3452881 |\n",
       "| IsParticularTRUE |  2.7627601 |\n",
       "| GeneroExecutanteM |  2.2677556 |\n",
       "| GeneroExecutanteN |  0.3929895 |\n",
       "| QtdNoShowPaciente |  1.6920334 |\n",
       "| QtdAgendamentosPaciente |  1.3027415 |\n",
       "| RazaoNoShowPaciente | 16.2837690 |\n",
       "\n"
      ],
      "text/plain": [
       "                        Overall   \n",
       "LeadTime                 1.7351981\n",
       "DiaSemana                2.3452881\n",
       "IsParticularTRUE         2.7627601\n",
       "GeneroExecutanteM        2.2677556\n",
       "GeneroExecutanteN        0.3929895\n",
       "QtdNoShowPaciente        1.6920334\n",
       "QtdAgendamentosPaciente  1.3027415\n",
       "RazaoNoShowPaciente     16.2837690"
      ]
     },
     "metadata": {},
     "output_type": "display_data"
    }
   ],
   "source": [
    "varImp(fit, scale = FALSE)"
   ]
  },
  {
   "cell_type": "code",
   "execution_count": 16,
   "metadata": {},
   "outputs": [],
   "source": [
    "# salva o modelo\n",
    "save(file = 'logit-step.model', fit)"
   ]
  },
  {
   "cell_type": "markdown",
   "metadata": {},
   "source": [
    "### Teste em um novo conjunto de dados"
   ]
  },
  {
   "cell_type": "code",
   "execution_count": 17,
   "metadata": {},
   "outputs": [],
   "source": [
    "nome_arquivo <- \"noshow_201808\"\n",
    "noshowDs <- read.csv(paste(nome_arquivo, \".csv\", sep = \"\"), sep = \";\", header = TRUE, fileEncoding = \"ISO-8859-1\")"
   ]
  },
  {
   "cell_type": "code",
   "execution_count": 18,
   "metadata": {},
   "outputs": [
    {
     "data": {
      "text/html": [
       "<ol class=list-inline>\n",
       "\t<li>592</li>\n",
       "\t<li>45</li>\n",
       "</ol>\n"
      ],
      "text/latex": [
       "\\begin{enumerate*}\n",
       "\\item 592\n",
       "\\item 45\n",
       "\\end{enumerate*}\n"
      ],
      "text/markdown": [
       "1. 592\n",
       "2. 45\n",
       "\n",
       "\n"
      ],
      "text/plain": [
       "[1] 592  45"
      ]
     },
     "metadata": {},
     "output_type": "display_data"
    }
   ],
   "source": [
    "# dimensões do dataset\n",
    "dim(noshowDs)"
   ]
  },
  {
   "cell_type": "code",
   "execution_count": 19,
   "metadata": {},
   "outputs": [],
   "source": [
    "# seleciona 100 elementos para o teste\n",
    "T <- sample(1:nrow(noshowDs), 100)\n",
    "noshowDs <- noshowDs[T, ]"
   ]
  },
  {
   "cell_type": "code",
   "execution_count": 20,
   "metadata": {
    "scrolled": true
   },
   "outputs": [
    {
     "data": {
      "text/html": [
       "<table>\n",
       "<caption>A data.frame: 6 × 45</caption>\n",
       "<thead>\n",
       "\t<tr><th></th><th scope=col>IsNoShow</th><th scope=col>DataNascimento</th><th scope=col>Idade</th><th scope=col>GeneroPaciente</th><th scope=col>IsPacienteUnicoAtendimento</th><th scope=col>IsNovoPaciente</th><th scope=col>Profissao</th><th scope=col>LeadTime</th><th scope=col>Mes</th><th scope=col>DiaSemana</th><th scope=col>⋯</th><th scope=col>GeneroExecutante</th><th scope=col>IsProcedimentoComJejum</th><th scope=col>IsProcedimentoComPreparacao</th><th scope=col>IsTodosExamesMesmaUnidade</th><th scope=col>IsAgendamentoComNecessidadesEspeciais</th><th scope=col>Perguntas</th><th scope=col>PerguntasDescricao</th><th scope=col>Respostas</th><th scope=col>QtdNoShowPaciente</th><th scope=col>QtdAgendamentosPaciente</th></tr>\n",
       "\t<tr><th></th><th scope=col>&lt;int&gt;</th><th scope=col>&lt;fct&gt;</th><th scope=col>&lt;int&gt;</th><th scope=col>&lt;fct&gt;</th><th scope=col>&lt;int&gt;</th><th scope=col>&lt;int&gt;</th><th scope=col>&lt;fct&gt;</th><th scope=col>&lt;int&gt;</th><th scope=col>&lt;int&gt;</th><th scope=col>&lt;int&gt;</th><th scope=col>⋯</th><th scope=col>&lt;fct&gt;</th><th scope=col>&lt;int&gt;</th><th scope=col>&lt;int&gt;</th><th scope=col>&lt;int&gt;</th><th scope=col>&lt;int&gt;</th><th scope=col>&lt;fct&gt;</th><th scope=col>&lt;fct&gt;</th><th scope=col>&lt;fct&gt;</th><th scope=col>&lt;int&gt;</th><th scope=col>&lt;int&gt;</th></tr>\n",
       "</thead>\n",
       "<tbody>\n",
       "\t<tr><th scope=row>64</th><td>1</td><td>1954-07-05</td><td>66</td><td>M</td><td>1</td><td>1</td><td>null                </td><td>1</td><td>8</td><td>6</td><td>⋯</td><td>M</td><td>0</td><td>1</td><td>0</td><td>0</td><td>null</td><td>null</td><td>null</td><td>1</td><td>1</td></tr>\n",
       "\t<tr><th scope=row>498</th><td>0</td><td>1933-02-16</td><td>87</td><td>F</td><td>0</td><td>0</td><td>null                </td><td>3</td><td>8</td><td>7</td><td>⋯</td><td>F</td><td>0</td><td>1</td><td>0</td><td>0</td><td>null</td><td>null</td><td>null</td><td>0</td><td>7</td></tr>\n",
       "\t<tr><th scope=row>369</th><td>0</td><td>1943-02-15</td><td>77</td><td>F</td><td>0</td><td>0</td><td>MEDICO ORTOMOLECULAR</td><td>5</td><td>8</td><td>7</td><td>⋯</td><td>M</td><td>0</td><td>1</td><td>0</td><td>0</td><td>null</td><td>null</td><td>null</td><td>0</td><td>9</td></tr>\n",
       "\t<tr><th scope=row>218</th><td>1</td><td>1932-10-30</td><td>88</td><td>M</td><td>0</td><td>0</td><td>MEDICO ORTOMOLECULAR</td><td>2</td><td>8</td><td>7</td><td>⋯</td><td>M</td><td>0</td><td>1</td><td>0</td><td>0</td><td>null</td><td>null</td><td>null</td><td>1</td><td>4</td></tr>\n",
       "\t<tr><th scope=row>107</th><td>0</td><td>1930-03-15</td><td>90</td><td>F</td><td>0</td><td>0</td><td>MEDICO ORTOMOLECULAR</td><td>1</td><td>8</td><td>3</td><td>⋯</td><td>M</td><td>0</td><td>1</td><td>0</td><td>0</td><td>null</td><td>null</td><td>null</td><td>1</td><td>3</td></tr>\n",
       "\t<tr><th scope=row>417</th><td>1</td><td>2011-12-16</td><td> 9</td><td>M</td><td>1</td><td>1</td><td>null                </td><td>7</td><td>8</td><td>4</td><td>⋯</td><td>F</td><td>0</td><td>1</td><td>0</td><td>0</td><td>null</td><td>null</td><td>null</td><td>1</td><td>1</td></tr>\n",
       "</tbody>\n",
       "</table>\n"
      ],
      "text/latex": [
       "A data.frame: 6 × 45\n",
       "\\begin{tabular}{r|lllllllllllllllllllllllllllllllllllllllllllll}\n",
       "  & IsNoShow & DataNascimento & Idade & GeneroPaciente & IsPacienteUnicoAtendimento & IsNovoPaciente & Profissao & LeadTime & Mes & DiaSemana & Hora & EnderecoCidadeUnidade & EnderecoBairroUnidade & EnderecoCepUnidade & EnderecoCidadePaciente & EnderecoBairroPaciente & EnderecoCepPaciente & EstacaoAno & IsPacientePossuiFone & IsVip & IsEmancipado & QtdRedesSociais & IsEncaixe & Segmento & IsPacientePossuiEmail & IsFeriado & IsParticular & EspecialidadeSolicitante & IsIndicacaoMedica & Procedimento & ProcedimentoMnemonico & ProcedimentoDescricao & Setor & SetorDescricao & IsAgendamentoPossuiExecutante & GeneroExecutante & IsProcedimentoComJejum & IsProcedimentoComPreparacao & IsTodosExamesMesmaUnidade & IsAgendamentoComNecessidadesEspeciais & Perguntas & PerguntasDescricao & Respostas & QtdNoShowPaciente & QtdAgendamentosPaciente\\\\\n",
       "  & <int> & <fct> & <int> & <fct> & <int> & <int> & <fct> & <int> & <int> & <int> & <fct> & <fct> & <fct> & <fct> & <fct> & <fct> & <fct> & <int> & <int> & <fct> & <fct> & <int> & <int> & <int> & <int> & <int> & <int> & <fct> & <int> & <int> & <fct> & <fct> & <int> & <fct> & <int> & <fct> & <int> & <int> & <int> & <int> & <fct> & <fct> & <fct> & <int> & <int>\\\\\n",
       "\\hline\n",
       "\t64 & 1 & 1954-07-05 & 66 & M & 1 & 1 & null                 & 1 & 8 & 6 & 10:00:00 & null & null & null & Niterói     & Fonseca     & null & 2 & 1 & null & 0 & 1 & 0 & 1 & 0 & 0 & 1 & N.A & 0 & 883 & HGR & HEMOGRAMA COMPLETO AUTOMATIZADO & 20 & Hemato - Cell Dyn & 1 & M & 0 & 1 & 0 & 0 & null & null & null & 1 & 1\\\\\n",
       "\t498 & 0 & 1933-02-16 & 87 & F & 0 & 0 & null                 & 3 & 8 & 7 & 08:00:00 & null & null & null & Niterói     & Icaraí      & null & 2 & 1 & null & 0 & 1 & 0 & 1 & 0 & 0 & 0 & N.A & 0 & 883 & HGR & HEMOGRAMA COMPLETO AUTOMATIZADO & 20 & Hemato - Cell Dyn & 1 & F & 0 & 1 & 0 & 0 & null & null & null & 0 & 7\\\\\n",
       "\t369 & 0 & 1943-02-15 & 77 & F & 0 & 0 & MEDICO ORTOMOLECULAR & 5 & 8 & 7 & 08:00:00 & null & null & null & Niterói     & Fonseca     & null & 2 & 1 & null & 0 & 0 & 0 & 1 & 1 & 0 & 0 & N.A & 0 & 883 & HGR & HEMOGRAMA COMPLETO AUTOMATIZADO & 20 & Hemato - Cell Dyn & 1 & M & 0 & 1 & 0 & 0 & null & null & null & 0 & 9\\\\\n",
       "\t218 & 1 & 1932-10-30 & 88 & M & 0 & 0 & MEDICO ORTOMOLECULAR & 2 & 8 & 7 & 06:30:00 & null & null & null & Niterói     & Icaraí      & null & 2 & 1 & null & 0 & 0 & 0 & 1 & 1 & 0 & 0 & N.A & 0 & 883 & HGR & HEMOGRAMA COMPLETO AUTOMATIZADO & 20 & Hemato - Cell Dyn & 1 & M & 0 & 1 & 0 & 0 & null & null & null & 1 & 4\\\\\n",
       "\t107 & 0 & 1930-03-15 & 90 & F & 0 & 0 & MEDICO ORTOMOLECULAR & 1 & 8 & 3 & 06:00:00 & null & null & null & Niterói     & Ingá        & null & 2 & 1 & null & 0 & 0 & 0 & 1 & 0 & 0 & 0 & N.A & 0 & 883 & HGR & HEMOGRAMA COMPLETO AUTOMATIZADO & 20 & Hemato - Cell Dyn & 1 & M & 0 & 1 & 0 & 0 & null & null & null & 1 & 3\\\\\n",
       "\t417 & 1 & 2011-12-16 &  9 & M & 1 & 1 & null                 & 7 & 8 & 4 & 06:30:00 & null & null & null & São Gonçalo & Nova Cidade & null & 2 & 1 & null & 0 & 1 & 0 & 1 & 0 & 0 & 0 & N.A & 0 & 883 & HGR & HEMOGRAMA COMPLETO AUTOMATIZADO & 20 & Hemato - Cell Dyn & 1 & F & 0 & 1 & 0 & 0 & null & null & null & 1 & 1\\\\\n",
       "\\end{tabular}\n"
      ],
      "text/markdown": [
       "\n",
       "A data.frame: 6 × 45\n",
       "\n",
       "| <!--/--> | IsNoShow &lt;int&gt; | DataNascimento &lt;fct&gt; | Idade &lt;int&gt; | GeneroPaciente &lt;fct&gt; | IsPacienteUnicoAtendimento &lt;int&gt; | IsNovoPaciente &lt;int&gt; | Profissao &lt;fct&gt; | LeadTime &lt;int&gt; | Mes &lt;int&gt; | DiaSemana &lt;int&gt; | ⋯ ⋯ | GeneroExecutante &lt;fct&gt; | IsProcedimentoComJejum &lt;int&gt; | IsProcedimentoComPreparacao &lt;int&gt; | IsTodosExamesMesmaUnidade &lt;int&gt; | IsAgendamentoComNecessidadesEspeciais &lt;int&gt; | Perguntas &lt;fct&gt; | PerguntasDescricao &lt;fct&gt; | Respostas &lt;fct&gt; | QtdNoShowPaciente &lt;int&gt; | QtdAgendamentosPaciente &lt;int&gt; |\n",
       "|---|---|---|---|---|---|---|---|---|---|---|---|---|---|---|---|---|---|---|---|---|---|\n",
       "| 64 | 1 | 1954-07-05 | 66 | M | 1 | 1 | null                 | 1 | 8 | 6 | ⋯ | M | 0 | 1 | 0 | 0 | null | null | null | 1 | 1 |\n",
       "| 498 | 0 | 1933-02-16 | 87 | F | 0 | 0 | null                 | 3 | 8 | 7 | ⋯ | F | 0 | 1 | 0 | 0 | null | null | null | 0 | 7 |\n",
       "| 369 | 0 | 1943-02-15 | 77 | F | 0 | 0 | MEDICO ORTOMOLECULAR | 5 | 8 | 7 | ⋯ | M | 0 | 1 | 0 | 0 | null | null | null | 0 | 9 |\n",
       "| 218 | 1 | 1932-10-30 | 88 | M | 0 | 0 | MEDICO ORTOMOLECULAR | 2 | 8 | 7 | ⋯ | M | 0 | 1 | 0 | 0 | null | null | null | 1 | 4 |\n",
       "| 107 | 0 | 1930-03-15 | 90 | F | 0 | 0 | MEDICO ORTOMOLECULAR | 1 | 8 | 3 | ⋯ | M | 0 | 1 | 0 | 0 | null | null | null | 1 | 3 |\n",
       "| 417 | 1 | 2011-12-16 |  9 | M | 1 | 1 | null                 | 7 | 8 | 4 | ⋯ | F | 0 | 1 | 0 | 0 | null | null | null | 1 | 1 |\n",
       "\n"
      ],
      "text/plain": [
       "    IsNoShow DataNascimento Idade GeneroPaciente IsPacienteUnicoAtendimento\n",
       "64  1        1954-07-05     66    M              1                         \n",
       "498 0        1933-02-16     87    F              0                         \n",
       "369 0        1943-02-15     77    F              0                         \n",
       "218 1        1932-10-30     88    M              0                         \n",
       "107 0        1930-03-15     90    F              0                         \n",
       "417 1        2011-12-16      9    M              1                         \n",
       "    IsNovoPaciente Profissao            LeadTime Mes DiaSemana ⋯\n",
       "64  1              null                 1        8   6         ⋯\n",
       "498 0              null                 3        8   7         ⋯\n",
       "369 0              MEDICO ORTOMOLECULAR 5        8   7         ⋯\n",
       "218 0              MEDICO ORTOMOLECULAR 2        8   7         ⋯\n",
       "107 0              MEDICO ORTOMOLECULAR 1        8   3         ⋯\n",
       "417 1              null                 7        8   4         ⋯\n",
       "    GeneroExecutante IsProcedimentoComJejum IsProcedimentoComPreparacao\n",
       "64  M                0                      1                          \n",
       "498 F                0                      1                          \n",
       "369 M                0                      1                          \n",
       "218 M                0                      1                          \n",
       "107 M                0                      1                          \n",
       "417 F                0                      1                          \n",
       "    IsTodosExamesMesmaUnidade IsAgendamentoComNecessidadesEspeciais Perguntas\n",
       "64  0                         0                                     null     \n",
       "498 0                         0                                     null     \n",
       "369 0                         0                                     null     \n",
       "218 0                         0                                     null     \n",
       "107 0                         0                                     null     \n",
       "417 0                         0                                     null     \n",
       "    PerguntasDescricao Respostas QtdNoShowPaciente QtdAgendamentosPaciente\n",
       "64  null               null      1                 1                      \n",
       "498 null               null      0                 7                      \n",
       "369 null               null      0                 9                      \n",
       "218 null               null      1                 4                      \n",
       "107 null               null      1                 3                      \n",
       "417 null               null      1                 1                      "
      ]
     },
     "metadata": {},
     "output_type": "display_data"
    },
    {
     "data": {
      "text/html": [
       "<table>\n",
       "<caption>A data.frame: 6 × 45</caption>\n",
       "<thead>\n",
       "\t<tr><th></th><th scope=col>IsNoShow</th><th scope=col>DataNascimento</th><th scope=col>Idade</th><th scope=col>GeneroPaciente</th><th scope=col>IsPacienteUnicoAtendimento</th><th scope=col>IsNovoPaciente</th><th scope=col>Profissao</th><th scope=col>LeadTime</th><th scope=col>Mes</th><th scope=col>DiaSemana</th><th scope=col>⋯</th><th scope=col>GeneroExecutante</th><th scope=col>IsProcedimentoComJejum</th><th scope=col>IsProcedimentoComPreparacao</th><th scope=col>IsTodosExamesMesmaUnidade</th><th scope=col>IsAgendamentoComNecessidadesEspeciais</th><th scope=col>Perguntas</th><th scope=col>PerguntasDescricao</th><th scope=col>Respostas</th><th scope=col>QtdNoShowPaciente</th><th scope=col>QtdAgendamentosPaciente</th></tr>\n",
       "\t<tr><th></th><th scope=col>&lt;int&gt;</th><th scope=col>&lt;fct&gt;</th><th scope=col>&lt;int&gt;</th><th scope=col>&lt;fct&gt;</th><th scope=col>&lt;int&gt;</th><th scope=col>&lt;int&gt;</th><th scope=col>&lt;fct&gt;</th><th scope=col>&lt;int&gt;</th><th scope=col>&lt;int&gt;</th><th scope=col>&lt;int&gt;</th><th scope=col>⋯</th><th scope=col>&lt;fct&gt;</th><th scope=col>&lt;int&gt;</th><th scope=col>&lt;int&gt;</th><th scope=col>&lt;int&gt;</th><th scope=col>&lt;int&gt;</th><th scope=col>&lt;fct&gt;</th><th scope=col>&lt;fct&gt;</th><th scope=col>&lt;fct&gt;</th><th scope=col>&lt;int&gt;</th><th scope=col>&lt;int&gt;</th></tr>\n",
       "</thead>\n",
       "<tbody>\n",
       "\t<tr><th scope=row>331</th><td>0</td><td>2009-05-09</td><td>11</td><td>M</td><td>0</td><td>0</td><td>MEDICO ORTOMOLECULAR</td><td>3</td><td>8</td><td>5</td><td>⋯</td><td>M</td><td>0</td><td>1</td><td>0</td><td>0</td><td>null</td><td>null</td><td>null</td><td>2</td><td> 3</td></tr>\n",
       "\t<tr><th scope=row>289</th><td>0</td><td>1934-01-10</td><td>86</td><td>F</td><td>0</td><td>0</td><td>MEDICO ORTOMOLECULAR</td><td>2</td><td>8</td><td>4</td><td>⋯</td><td>M</td><td>0</td><td>1</td><td>0</td><td>0</td><td>null</td><td>null</td><td>null</td><td>0</td><td> 2</td></tr>\n",
       "\t<tr><th scope=row>563</th><td>0</td><td>1936-02-21</td><td>84</td><td>F</td><td>0</td><td>0</td><td>null                </td><td>3</td><td>8</td><td>5</td><td>⋯</td><td>M</td><td>0</td><td>1</td><td>0</td><td>0</td><td>null</td><td>null</td><td>null</td><td>1</td><td> 6</td></tr>\n",
       "\t<tr><th scope=row>551</th><td>1</td><td>1933-03-28</td><td>87</td><td>M</td><td>0</td><td>0</td><td>MEDICO ORTOMOLECULAR</td><td>2</td><td>8</td><td>4</td><td>⋯</td><td>M</td><td>0</td><td>1</td><td>0</td><td>0</td><td>null</td><td>null</td><td>null</td><td>1</td><td>19</td></tr>\n",
       "\t<tr><th scope=row>25</th><td>0</td><td>1951-05-02</td><td>69</td><td>F</td><td>0</td><td>0</td><td>MEDICO ORTOMOLECULAR</td><td>3</td><td>8</td><td>5</td><td>⋯</td><td>F</td><td>0</td><td>1</td><td>0</td><td>0</td><td>null</td><td>null</td><td>null</td><td>0</td><td> 2</td></tr>\n",
       "\t<tr><th scope=row>529</th><td>0</td><td>1945-12-29</td><td>75</td><td>F</td><td>0</td><td>0</td><td>null                </td><td>1</td><td>8</td><td>3</td><td>⋯</td><td>F</td><td>0</td><td>1</td><td>0</td><td>0</td><td>null</td><td>null</td><td>null</td><td>1</td><td>10</td></tr>\n",
       "</tbody>\n",
       "</table>\n"
      ],
      "text/latex": [
       "A data.frame: 6 × 45\n",
       "\\begin{tabular}{r|lllllllllllllllllllllllllllllllllllllllllllll}\n",
       "  & IsNoShow & DataNascimento & Idade & GeneroPaciente & IsPacienteUnicoAtendimento & IsNovoPaciente & Profissao & LeadTime & Mes & DiaSemana & Hora & EnderecoCidadeUnidade & EnderecoBairroUnidade & EnderecoCepUnidade & EnderecoCidadePaciente & EnderecoBairroPaciente & EnderecoCepPaciente & EstacaoAno & IsPacientePossuiFone & IsVip & IsEmancipado & QtdRedesSociais & IsEncaixe & Segmento & IsPacientePossuiEmail & IsFeriado & IsParticular & EspecialidadeSolicitante & IsIndicacaoMedica & Procedimento & ProcedimentoMnemonico & ProcedimentoDescricao & Setor & SetorDescricao & IsAgendamentoPossuiExecutante & GeneroExecutante & IsProcedimentoComJejum & IsProcedimentoComPreparacao & IsTodosExamesMesmaUnidade & IsAgendamentoComNecessidadesEspeciais & Perguntas & PerguntasDescricao & Respostas & QtdNoShowPaciente & QtdAgendamentosPaciente\\\\\n",
       "  & <int> & <fct> & <int> & <fct> & <int> & <int> & <fct> & <int> & <int> & <int> & <fct> & <fct> & <fct> & <fct> & <fct> & <fct> & <fct> & <int> & <int> & <fct> & <fct> & <int> & <int> & <int> & <int> & <int> & <int> & <fct> & <int> & <int> & <fct> & <fct> & <int> & <fct> & <int> & <fct> & <int> & <int> & <int> & <int> & <fct> & <fct> & <fct> & <int> & <int>\\\\\n",
       "\\hline\n",
       "\t331 & 0 & 2009-05-09 & 11 & M & 0 & 0 & MEDICO ORTOMOLECULAR & 3 & 8 & 5 & 10:00:00 & null & null & null & São Gonçalo & Sete Pontes   & null & 2 & 1 & null & 0 & 0 & 0 & 1 & 0 & 0 & 0 & N.A & 0 & 883 & HGR & HEMOGRAMA COMPLETO AUTOMATIZADO & 20 & Hemato - Cell Dyn & 1 & M & 0 & 1 & 0 & 0 & null & null & null & 2 &  3\\\\\n",
       "\t289 & 0 & 1934-01-10 & 86 & F & 0 & 0 & MEDICO ORTOMOLECULAR & 2 & 8 & 4 & 06:30:00 & null & null & null & Niterói     & Icaraí        & null & 2 & 1 & null & 0 & 0 & 0 & 1 & 0 & 0 & 0 & N.A & 0 & 883 & HGR & HEMOGRAMA COMPLETO AUTOMATIZADO & 20 & Hemato - Cell Dyn & 1 & M & 0 & 1 & 0 & 0 & null & null & null & 0 &  2\\\\\n",
       "\t563 & 0 & 1936-02-21 & 84 & F & 0 & 0 & null                 & 3 & 8 & 5 & 08:00:00 & null & null & null & Niterói     & Icaraí        & null & 2 & 1 & null & 0 & 1 & 0 & 1 & 0 & 0 & 0 & N.A & 0 & 883 & HGR & HEMOGRAMA COMPLETO AUTOMATIZADO & 20 & Hemato - Cell Dyn & 1 & M & 0 & 1 & 0 & 0 & null & null & null & 1 &  6\\\\\n",
       "\t551 & 1 & 1933-03-28 & 87 & M & 0 & 0 & MEDICO ORTOMOLECULAR & 2 & 8 & 4 & 11:00:00 & null & null & null & Niterói     & São Francisco & null & 2 & 1 & null & 0 & 0 & 0 & 1 & 0 & 0 & 0 & N.A & 0 & 883 & HGR & HEMOGRAMA COMPLETO AUTOMATIZADO & 20 & Hemato - Cell Dyn & 1 & M & 0 & 1 & 0 & 0 & null & null & null & 1 & 19\\\\\n",
       "\t25 & 0 & 1951-05-02 & 69 & F & 0 & 0 & MEDICO ORTOMOLECULAR & 3 & 8 & 5 & 06:30:00 & null & null & null & Niterói     & Badu          & null & 2 & 1 & null & 0 & 0 & 0 & 1 & 0 & 0 & 0 & N.A & 0 & 883 & HGR & HEMOGRAMA COMPLETO AUTOMATIZADO & 20 & Hemato - Cell Dyn & 1 & F & 0 & 1 & 0 & 0 & null & null & null & 0 &  2\\\\\n",
       "\t529 & 0 & 1945-12-29 & 75 & F & 0 & 0 & null                 & 1 & 8 & 3 & 08:00:00 & null & null & null & Niterói     & Icaraí        & null & 2 & 1 & null & 0 & 0 & 0 & 1 & 0 & 0 & 0 & N.A & 0 & 883 & HGR & HEMOGRAMA COMPLETO AUTOMATIZADO & 20 & Hemato - Cell Dyn & 1 & F & 0 & 1 & 0 & 0 & null & null & null & 1 & 10\\\\\n",
       "\\end{tabular}\n"
      ],
      "text/markdown": [
       "\n",
       "A data.frame: 6 × 45\n",
       "\n",
       "| <!--/--> | IsNoShow &lt;int&gt; | DataNascimento &lt;fct&gt; | Idade &lt;int&gt; | GeneroPaciente &lt;fct&gt; | IsPacienteUnicoAtendimento &lt;int&gt; | IsNovoPaciente &lt;int&gt; | Profissao &lt;fct&gt; | LeadTime &lt;int&gt; | Mes &lt;int&gt; | DiaSemana &lt;int&gt; | ⋯ ⋯ | GeneroExecutante &lt;fct&gt; | IsProcedimentoComJejum &lt;int&gt; | IsProcedimentoComPreparacao &lt;int&gt; | IsTodosExamesMesmaUnidade &lt;int&gt; | IsAgendamentoComNecessidadesEspeciais &lt;int&gt; | Perguntas &lt;fct&gt; | PerguntasDescricao &lt;fct&gt; | Respostas &lt;fct&gt; | QtdNoShowPaciente &lt;int&gt; | QtdAgendamentosPaciente &lt;int&gt; |\n",
       "|---|---|---|---|---|---|---|---|---|---|---|---|---|---|---|---|---|---|---|---|---|---|\n",
       "| 331 | 0 | 2009-05-09 | 11 | M | 0 | 0 | MEDICO ORTOMOLECULAR | 3 | 8 | 5 | ⋯ | M | 0 | 1 | 0 | 0 | null | null | null | 2 |  3 |\n",
       "| 289 | 0 | 1934-01-10 | 86 | F | 0 | 0 | MEDICO ORTOMOLECULAR | 2 | 8 | 4 | ⋯ | M | 0 | 1 | 0 | 0 | null | null | null | 0 |  2 |\n",
       "| 563 | 0 | 1936-02-21 | 84 | F | 0 | 0 | null                 | 3 | 8 | 5 | ⋯ | M | 0 | 1 | 0 | 0 | null | null | null | 1 |  6 |\n",
       "| 551 | 1 | 1933-03-28 | 87 | M | 0 | 0 | MEDICO ORTOMOLECULAR | 2 | 8 | 4 | ⋯ | M | 0 | 1 | 0 | 0 | null | null | null | 1 | 19 |\n",
       "| 25 | 0 | 1951-05-02 | 69 | F | 0 | 0 | MEDICO ORTOMOLECULAR | 3 | 8 | 5 | ⋯ | F | 0 | 1 | 0 | 0 | null | null | null | 0 |  2 |\n",
       "| 529 | 0 | 1945-12-29 | 75 | F | 0 | 0 | null                 | 1 | 8 | 3 | ⋯ | F | 0 | 1 | 0 | 0 | null | null | null | 1 | 10 |\n",
       "\n"
      ],
      "text/plain": [
       "    IsNoShow DataNascimento Idade GeneroPaciente IsPacienteUnicoAtendimento\n",
       "331 0        2009-05-09     11    M              0                         \n",
       "289 0        1934-01-10     86    F              0                         \n",
       "563 0        1936-02-21     84    F              0                         \n",
       "551 1        1933-03-28     87    M              0                         \n",
       "25  0        1951-05-02     69    F              0                         \n",
       "529 0        1945-12-29     75    F              0                         \n",
       "    IsNovoPaciente Profissao            LeadTime Mes DiaSemana ⋯\n",
       "331 0              MEDICO ORTOMOLECULAR 3        8   5         ⋯\n",
       "289 0              MEDICO ORTOMOLECULAR 2        8   4         ⋯\n",
       "563 0              null                 3        8   5         ⋯\n",
       "551 0              MEDICO ORTOMOLECULAR 2        8   4         ⋯\n",
       "25  0              MEDICO ORTOMOLECULAR 3        8   5         ⋯\n",
       "529 0              null                 1        8   3         ⋯\n",
       "    GeneroExecutante IsProcedimentoComJejum IsProcedimentoComPreparacao\n",
       "331 M                0                      1                          \n",
       "289 M                0                      1                          \n",
       "563 M                0                      1                          \n",
       "551 M                0                      1                          \n",
       "25  F                0                      1                          \n",
       "529 F                0                      1                          \n",
       "    IsTodosExamesMesmaUnidade IsAgendamentoComNecessidadesEspeciais Perguntas\n",
       "331 0                         0                                     null     \n",
       "289 0                         0                                     null     \n",
       "563 0                         0                                     null     \n",
       "551 0                         0                                     null     \n",
       "25  0                         0                                     null     \n",
       "529 0                         0                                     null     \n",
       "    PerguntasDescricao Respostas QtdNoShowPaciente QtdAgendamentosPaciente\n",
       "331 null               null      2                  3                     \n",
       "289 null               null      0                  2                     \n",
       "563 null               null      1                  6                     \n",
       "551 null               null      1                 19                     \n",
       "25  null               null      0                  2                     \n",
       "529 null               null      1                 10                     "
      ]
     },
     "metadata": {},
     "output_type": "display_data"
    },
    {
     "data": {
      "text/plain": [
       "    IsNoShow       DataNascimento     Idade       GeneroPaciente\n",
       " Min.   :0.00   1933-03-28: 3     Min.   : 4.00   F:68          \n",
       " 1st Qu.:0.00   1926-12-07: 2     1st Qu.:63.75   M:32          \n",
       " Median :0.00   1931-04-20: 2     Median :80.00                 \n",
       " Mean   :0.15   1932-10-30: 2     Mean   :72.44                 \n",
       " 3rd Qu.:0.00   1971-09-07: 2     3rd Qu.:87.25                 \n",
       " Max.   :1.00   1922-02-17: 1     Max.   :98.00                 \n",
       "                (Other)   :88                                   \n",
       " IsPacienteUnicoAtendimento IsNovoPaciente                Profissao \n",
       " Min.   :0.00               Min.   :0.00   Médico              : 0  \n",
       " 1st Qu.:0.00               1st Qu.:0.00   MEDICO ORTOMOLECULAR:63  \n",
       " Median :0.00               Median :0.00   null                :37  \n",
       " Mean   :0.27               Mean   :0.29                            \n",
       " 3rd Qu.:1.00               3rd Qu.:1.00                            \n",
       " Max.   :1.00               Max.   :1.00                            \n",
       "                                                                    \n",
       "    LeadTime         Mes      DiaSemana          Hora    EnderecoCidadeUnidade\n",
       " Min.   :0.00   Min.   :8   Min.   :2.00   08:00:00:14   null:100             \n",
       " 1st Qu.:1.00   1st Qu.:8   1st Qu.:3.00   06:30:00:12                        \n",
       " Median :2.00   Median :8   Median :4.00   07:00:00:10                        \n",
       " Mean   :2.69   Mean   :8   Mean   :4.36   08:30:00:10                        \n",
       " 3rd Qu.:4.00   3rd Qu.:8   3rd Qu.:6.00   09:00:00: 9                        \n",
       " Max.   :8.00   Max.   :8   Max.   :7.00   09:30:00: 9                        \n",
       "                                           (Other) :36                        \n",
       " EnderecoBairroUnidade EnderecoCepUnidade EnderecoCidadePaciente\n",
       " null:100              null:100           Niterói    :79        \n",
       "                                          null       : 8        \n",
       "                                          São Gonçalo:13        \n",
       "                                                                \n",
       "                                                                \n",
       "                                                                \n",
       "                                                                \n",
       "   EnderecoBairroPaciente EnderecoCepPaciente   EstacaoAno IsPacientePossuiFone\n",
       " Icaraí       :28         58814000: 1         Min.   :2    Min.   :1           \n",
       " null         :11         null    :99         1st Qu.:2    1st Qu.:1           \n",
       " Centro       : 8                             Median :2    Median :1           \n",
       " Fonseca      : 8                             Mean   :2    Mean   :1           \n",
       " Ingá         : 8                             3rd Qu.:2    3rd Qu.:1           \n",
       " São Francisco: 8                             Max.   :2    Max.   :1           \n",
       " (Other)      :29                                                              \n",
       "  IsVip     IsEmancipado QtdRedesSociais   IsEncaixe    Segmento\n",
       " null:100   0   :93      Min.   :0.00    Min.   :0   Min.   :1  \n",
       "            null: 7      1st Qu.:0.00    1st Qu.:0   1st Qu.:1  \n",
       "                         Median :0.00    Median :0   Median :1  \n",
       "                         Mean   :0.34    Mean   :0   Mean   :1  \n",
       "                         3rd Qu.:1.00    3rd Qu.:0   3rd Qu.:1  \n",
       "                         Max.   :1.00    Max.   :0   Max.   :1  \n",
       "                                                                \n",
       " IsPacientePossuiEmail   IsFeriado  IsParticular  EspecialidadeSolicitante\n",
       " Min.   :0.00          Min.   :0   Min.   :0.00   N.A:100                 \n",
       " 1st Qu.:0.00          1st Qu.:0   1st Qu.:0.00                           \n",
       " Median :0.00          Median :0   Median :0.00                           \n",
       " Mean   :0.09          Mean   :0   Mean   :0.06                           \n",
       " 3rd Qu.:0.00          3rd Qu.:0   3rd Qu.:0.00                           \n",
       " Max.   :1.00          Max.   :0   Max.   :1.00                           \n",
       "                                                                          \n",
       " IsIndicacaoMedica  Procedimento ProcedimentoMnemonico\n",
       " Min.   :0         Min.   :883   HGR:100              \n",
       " 1st Qu.:0         1st Qu.:883                        \n",
       " Median :0         Median :883                        \n",
       " Mean   :0         Mean   :883                        \n",
       " 3rd Qu.:0         3rd Qu.:883                        \n",
       " Max.   :0         Max.   :883                        \n",
       "                                                      \n",
       "                     ProcedimentoDescricao     Setor   \n",
       " HEMOGRAMA COMPLETO AUTOMATIZADO:100       Min.   :20  \n",
       "                                           1st Qu.:20  \n",
       "                                           Median :20  \n",
       "                                           Mean   :20  \n",
       "                                           3rd Qu.:20  \n",
       "                                           Max.   :20  \n",
       "                                                       \n",
       "           SetorDescricao IsAgendamentoPossuiExecutante GeneroExecutante\n",
       " Hemato - Cell Dyn:100    Min.   :1                     F:43            \n",
       "                          1st Qu.:1                     M:57            \n",
       "                          Median :1                                     \n",
       "                          Mean   :1                                     \n",
       "                          3rd Qu.:1                                     \n",
       "                          Max.   :1                                     \n",
       "                                                                        \n",
       " IsProcedimentoComJejum IsProcedimentoComPreparacao IsTodosExamesMesmaUnidade\n",
       " Min.   :0              Min.   :1                   Min.   :0                \n",
       " 1st Qu.:0              1st Qu.:1                   1st Qu.:0                \n",
       " Median :0              Median :1                   Median :0                \n",
       " Mean   :0              Mean   :1                   Mean   :0                \n",
       " 3rd Qu.:0              3rd Qu.:1                   3rd Qu.:0                \n",
       " Max.   :0              Max.   :1                   Max.   :0                \n",
       "                                                                             \n",
       " IsAgendamentoComNecessidadesEspeciais Perguntas  PerguntasDescricao Respostas \n",
       " Min.   :0                             null:100   null:100           null:100  \n",
       " 1st Qu.:0                                                                     \n",
       " Median :0                                                                     \n",
       " Mean   :0                                                                     \n",
       " 3rd Qu.:0                                                                     \n",
       " Max.   :0                                                                     \n",
       "                                                                               \n",
       " QtdNoShowPaciente QtdAgendamentosPaciente\n",
       " Min.   : 0.0      Min.   : 1.00          \n",
       " 1st Qu.: 0.0      1st Qu.: 1.00          \n",
       " Median : 0.0      Median : 3.00          \n",
       " Mean   : 0.7      Mean   : 4.25          \n",
       " 3rd Qu.: 1.0      3rd Qu.: 5.00          \n",
       " Max.   :13.0      Max.   :29.00          \n",
       "                                          "
      ]
     },
     "metadata": {},
     "output_type": "display_data"
    }
   ],
   "source": [
    "head(noshowDs)\n",
    "tail(noshowDs)\n",
    "summary(noshowDs)"
   ]
  },
  {
   "cell_type": "code",
   "execution_count": 21,
   "metadata": {},
   "outputs": [],
   "source": [
    "# remoção de colunas que não serão utilizadas na modelagem\n",
    "col_excluir <- c(\n",
    "    \"DataNascimento\",\n",
    "    \"EnderecoCidadeUnidade\", \"EnderecoBairroUnidade\", \"EnderecoCepUnidade\",\n",
    "    \"EnderecoCidadePaciente\", \"EnderecoBairroPaciente\", \"EnderecoCepPaciente\",\n",
    "    \"Profissao\", \"IsEmancipado\", \"EspecialidadeSolicitante\", \"ProcedimentoMnemonico\", \n",
    "    \"Procedimento\", \"ProcedimentoDescricao\", \"Setor\", \"SetorDescricao\",\n",
    "    \"IsVip\", \"Perguntas\", \"PerguntasDescricao\", \"Respostas\", \"Segmento\", \"IsFeriado\",\n",
    "    # não estavam deixando o modelo convergir...\n",
    "    \"EstacaoAno\",\"IsEncaixe\",\"IsIndicacaoMedica\",\"IsProcedimentoComJejum\", \"IsProcedimentoComPreparacao\",\n",
    "    \"IsTodosExamesMesmaUnidade\", \"IsAgendamentoComNecessidadesEspeciais\", \"IsAgendamentoPossuiExecutante\"\n",
    ")\n",
    "noshowDs <- noshowDs[!(names(noshowDs) %in% col_excluir)]"
   ]
  },
  {
   "cell_type": "code",
   "execution_count": 22,
   "metadata": {},
   "outputs": [],
   "source": [
    "# transforma todas as string \"null\" em NA\n",
    "noshowDs[noshowDs == \"null\"] <- NA\n",
    "#noshowDs[noshowDs$GeneroExecutante == \"N\",] <- NA\n",
    "noshowDs <- na.omit(noshowDs)"
   ]
  },
  {
   "cell_type": "code",
   "execution_count": 23,
   "metadata": {},
   "outputs": [],
   "source": [
    "# transformação da coluna de horário em numérico\n",
    "# calcula a quantidade de segundos a partir de 00:00:00\n",
    "tmp1 <- paste(Sys.Date(), \" \", noshowDs$Hora)\n",
    "tmp2 <- as.POSIXct(tmp1)\n",
    "tmp3 <- as.POSIXct(paste(Sys.Date(), \" 00:00:00\"))\n",
    "noshowDs$Hora <- as.numeric(tmp2) - as.numeric(tmp3)"
   ]
  },
  {
   "cell_type": "code",
   "execution_count": 24,
   "metadata": {},
   "outputs": [],
   "source": [
    "# transforma todas as colunas 0/1 em FALSE/TRUE\n",
    "bool_columns <- c(\n",
    "    \"IsNoShow\", \"IsNovoPaciente\", \"IsPacientePossuiFone\", \"IsPacientePossuiEmail\", \"IsParticular\"\n",
    ")\n",
    "noshowDs[bool_columns] <- noshowDs[bool_columns] == 1"
   ]
  },
  {
   "cell_type": "code",
   "execution_count": 25,
   "metadata": {},
   "outputs": [],
   "source": [
    "#noshowDs <- noshowDs[c(\"IsNoShow\", \"QtdNoShowPaciente\", \"QtdAgendamentosPaciente\", \"IsNovoPaciente\")]"
   ]
  },
  {
   "cell_type": "code",
   "execution_count": 26,
   "metadata": {},
   "outputs": [],
   "source": [
    "# cria uma coluna com a razão de no-show do paciente\n",
    "noshowDs[\"RazaoNoShowPaciente\"] <- noshowDs[\"QtdNoShowPaciente\"] / noshowDs[\"QtdAgendamentosPaciente\"]"
   ]
  },
  {
   "cell_type": "code",
   "execution_count": 27,
   "metadata": {},
   "outputs": [],
   "source": [
    "# aplica o modelo para predição no conjunto de teste\n",
    "predict_test <- predict(fit, newdata = noshowDs, type = \"response\") > .5"
   ]
  },
  {
   "cell_type": "code",
   "execution_count": 28,
   "metadata": {},
   "outputs": [
    {
     "data": {
      "text/plain": [
       "Confusion Matrix and Statistics\n",
       "\n",
       "          Reference\n",
       "Prediction TRUE FALSE\n",
       "     TRUE     5    10\n",
       "     FALSE    7    78\n",
       "                                          \n",
       "               Accuracy : 0.83            \n",
       "                 95% CI : (0.7418, 0.8977)\n",
       "    No Information Rate : 0.88            \n",
       "    P-Value [Acc > NIR] : 0.9489          \n",
       "                                          \n",
       "                  Kappa : 0.2735          \n",
       "                                          \n",
       " Mcnemar's Test P-Value : 0.6276          \n",
       "                                          \n",
       "            Sensitivity : 0.4167          \n",
       "            Specificity : 0.8864          \n",
       "         Pos Pred Value : 0.3333          \n",
       "         Neg Pred Value : 0.9176          \n",
       "             Prevalence : 0.1200          \n",
       "         Detection Rate : 0.0500          \n",
       "   Detection Prevalence : 0.1500          \n",
       "      Balanced Accuracy : 0.6515          \n",
       "                                          \n",
       "       'Positive' Class : TRUE            \n",
       "                                          "
      ]
     },
     "metadata": {},
     "output_type": "display_data"
    }
   ],
   "source": [
    "# Matriz de confusão do modelo e acurácia do modelo\n",
    "caret::confusionMatrix(\n",
    "    factor(noshowDs$IsNoShow, levels = c(\"TRUE\", \"FALSE\")), \n",
    "    factor(predict_test, levels = c(\"TRUE\", \"FALSE\")), \n",
    "    positive = \"TRUE\"\n",
    ")"
   ]
  },
  {
   "cell_type": "code",
   "execution_count": 29,
   "metadata": {
    "scrolled": true
   },
   "outputs": [
    {
     "data": {
      "image/png": "[encoded data removed]",
      "text/plain": [
       "Plot with title “Color Key”"
      ]
     },
     "metadata": {},
     "output_type": "display_data"
    }
   ],
   "source": [
    "x <- matrix(as.numeric(predict_test - noshowDs$IsNoShow), nrow = 10, ncol = 10)\n",
    "xval <- x\n",
    "xval[xval == 0] <- \"OK\"\n",
    "xval[xval == -1] <- \"FP\"\n",
    "xval[xval == 1] <- \"FN\"\n",
    "pal <- c(\"red\", \"green\", \"yellow\") #colorRampPalette(c(rgb(0.96,0.96,1), rgb(0.1,0.1,0.9)), space = \"rgb\")\n",
    "heatmap.2(\n",
    "    x,\n",
    "    Rowv=FALSE, Colv=FALSE, dendrogram=\"none\", \n",
    "    col=pal, tracecol=\"#303030\", trace=\"none\", cellnote=xval, \n",
    "    density.info = \"none\", \n",
    "    notecol=\"black\", notecex=0.8, keysize = 1.5, margins=c(5, 5)\n",
    ")"
   ]
  },
  {
   "cell_type": "code",
   "execution_count": 30,
   "metadata": {
    "scrolled": true
   },
   "outputs": [
    {
     "data": {
      "image/png": "[encoded data removed]",
      "text/plain": [
       "Plot with title “Color Key”"
      ]
     },
     "metadata": {},
     "output_type": "display_data"
    }
   ],
   "source": [
    "x <- matrix(as.numeric(predict_test == noshowDs$IsNoShow), nrow = 10, ncol = 10)\n",
    "xval <- x == 1 #formatC(x, format=\"f\", digits=2)\n",
    "pal <- c(\"red\",\"green\") #colorRampPalette(c(rgb(0.96,0.96,1), rgb(0.1,0.1,0.9)), space = \"rgb\")\n",
    "heatmap.2(\n",
    "    x,\n",
    "    Rowv=FALSE, Colv=FALSE, dendrogram=\"none\", \n",
    "    col=pal, tracecol=\"#303030\", trace=\"none\", cellnote=xval, \n",
    "    density.info = \"none\", \n",
    "    notecol=\"black\", notecex=0.8, keysize = 1.5, margins=c(5, 5)\n",
    ")"
   ]
  },
  {
   "cell_type": "code",
   "execution_count": null,
   "metadata": {},
   "outputs": [],
   "source": []
  }
 ],
 "metadata": {
  "kernelspec": {
   "display_name": "R",
   "language": "R",
   "name": "ir"
  },
  "language_info": {
   "codemirror_mode": "r",
   "file_extension": ".r",
   "mimetype": "text/x-r-source",
   "name": "R",
   "pygments_lexer": "r",
   "version": "3.6.1"
  }
 },
 "nbformat": 4,
 "nbformat_minor": 2
}
