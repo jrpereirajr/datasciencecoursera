{
 "cells": [
  {
   "cell_type": "markdown",
   "metadata": {},
   "source": [
    "### Setup"
   ]
  },
  {
   "cell_type": "code",
   "execution_count": 1,
   "metadata": {
    "scrolled": true
   },
   "outputs": [
    {
     "name": "stderr",
     "output_type": "stream",
     "text": [
      "Loading required package: gplots\n",
      "\n",
      "Attaching package: ‘gplots’\n",
      "\n",
      "The following object is masked from ‘package:stats’:\n",
      "\n",
      "    lowess\n",
      "\n",
      "Loading required package: leaps\n",
      "Loading required package: magrittr\n",
      "Loading required package: lattice\n"
     ]
    }
   ],
   "source": [
    "# bibliotecas\n",
    "#install.packages(\"ROCR\")\n",
    "#install.packages(\"leaps\")\n",
    "#install.packages(\"ggplot2\")\n",
    "#install.packages(\"ggpubr\")\n",
    "#install.packages(\"caret\")\n",
    "#install.packages(\"GGally\")\n",
    "\n",
    "library(ROCR)\n",
    "require(leaps)\n",
    "library(ggplot2)\n",
    "library(ggpubr)\n",
    "library(caret)"
   ]
  },
  {
   "cell_type": "markdown",
   "metadata": {},
   "source": [
    "### Aquisição dos dados"
   ]
  },
  {
   "cell_type": "code",
   "execution_count": 2,
   "metadata": {},
   "outputs": [],
   "source": [
    "file_name <- \"noshow_4000+_natual_trans\"\n",
    "#file_name <- \"no-show-201707-201806_trans\"\n",
    "noshowDs <- read.csv(paste(file_name, \".csv\", sep = \"\"), sep = \";\", header = TRUE, fileEncoding = \"ISO-8859-1\")"
   ]
  },
  {
   "cell_type": "markdown",
   "metadata": {},
   "source": [
    "### Modelagem"
   ]
  },
  {
   "cell_type": "code",
   "execution_count": 3,
   "metadata": {
    "scrolled": true
   },
   "outputs": [],
   "source": [
    "# garante a repetição do experimento\n",
    "set.seed(1984)"
   ]
  },
  {
   "cell_type": "code",
   "execution_count": 4,
   "metadata": {},
   "outputs": [],
   "source": [
    "# dummy encode para as variáveis categóricas\n",
    "#noshowDs <- dummy.data.frame(noshowDs)\n",
    "# transforma IsNoShow em factor para conformidade com o CV\n",
    "noshowDs[\"IsNoShow\"] <- as.factor(noshowDs[,\"IsNoShow\"])"
   ]
  },
  {
   "cell_type": "code",
   "execution_count": 5,
   "metadata": {},
   "outputs": [
    {
     "data": {
      "text/html": [
       "4086"
      ],
      "text/latex": [
       "4086"
      ],
      "text/markdown": [
       "4086"
      ],
      "text/plain": [
       "[1] 4086"
      ]
     },
     "metadata": {},
     "output_type": "display_data"
    }
   ],
   "source": [
    "nrow(noshowDs)"
   ]
  },
  {
   "cell_type": "code",
   "execution_count": 6,
   "metadata": {},
   "outputs": [],
   "source": [
    "noshowDs[noshowDs$GeneroPaciente == \"N\",] <- NA\n",
    "noshowDs <- na.omit(noshowDs)\n",
    "noshowDs$GeneroPaciente <- factor(noshowDs$GeneroPaciente)"
   ]
  },
  {
   "cell_type": "code",
   "execution_count": 7,
   "metadata": {
    "scrolled": true
   },
   "outputs": [],
   "source": [
    "# cria o controle para o CV com 20 partições dos dados e 5 repetições \n",
    "ctrl <- trainControl(method = \"repeatedcv\", number = 20, repeats = 5)\n",
    "# ajusta um modelo de regressão logística, usando a função de treinamento da biblioteca caret\n",
    "completo <- IsNoShow ~ .\n",
    "fit <- train(completo, data = noshowDs,\n",
    "                  method = \"glm\", \n",
    "                  family = \"binomial\",\n",
    "                  trControl = ctrl, \n",
    "                  preProcess = c(\"center\", \"scale\"))"
   ]
  },
  {
   "cell_type": "code",
   "execution_count": 8,
   "metadata": {
    "scrolled": true
   },
   "outputs": [
    {
     "data": {
      "text/plain": [
       "Generalized Linear Model \n",
       "\n",
       "4085 samples\n",
       "  16 predictor\n",
       "   2 classes: 'FALSE', 'TRUE' \n",
       "\n",
       "Pre-processing: centered (17), scaled (17) \n",
       "Resampling: Cross-Validated (20 fold, repeated 5 times) \n",
       "Summary of sample sizes: 3881, 3880, 3882, 3882, 3881, 3880, ... \n",
       "Resampling results:\n",
       "\n",
       "  Accuracy   Kappa    \n",
       "  0.8715422  0.5654644\n"
      ]
     },
     "metadata": {},
     "output_type": "display_data"
    },
    {
     "data": {
      "text/plain": [
       "\n",
       "Call:\n",
       "NULL\n",
       "\n",
       "Deviance Residuals: \n",
       "    Min       1Q   Median       3Q      Max  \n",
       "-2.2240  -0.4084  -0.3416  -0.2901   2.5766  \n",
       "\n",
       "Coefficients:\n",
       "                            Estimate Std. Error z value Pr(>|z|)    \n",
       "(Intercept)                -1.683167   0.232737  -7.232 4.76e-13 ***\n",
       "Idade                      -0.001786   0.053649  -0.033   0.9734    \n",
       "GeneroPacienteM             0.041632   0.051054   0.815   0.4148    \n",
       "IsPacienteUnicoAtendimento  0.007235   0.073677   0.098   0.9218    \n",
       "IsNovoPacienteTRUE          0.027248   0.057629   0.473   0.6363    \n",
       "LeadTime                    0.115835   0.053721   2.156   0.0311 *  \n",
       "Mes                         0.072559   0.052359   1.386   0.1658    \n",
       "DiaSemana                   0.122098   0.052507   2.325   0.0201 *  \n",
       "Hora                       -0.032440   0.052815  -0.614   0.5391    \n",
       "IsPacientePossuiFoneTRUE   -0.261208   8.337194  -0.031   0.9750    \n",
       "QtdRedesSociais            -0.077629   0.055291  -1.404   0.1603    \n",
       "IsPacientePossuiEmailTRUE  -0.006755   0.051767  -0.130   0.8962    \n",
       "IsParticularTRUE            0.100311   0.053098   1.889   0.0589 .  \n",
       "GeneroExecutanteM          -0.117767   0.051732  -2.276   0.0228 *  \n",
       "GeneroExecutanteN           0.014775   0.045593   0.324   0.7459    \n",
       "QtdNoShowPaciente           0.114918   0.073458   1.564   0.1177    \n",
       "QtdAgendamentosPaciente    -0.087231   0.089702  -0.972   0.3308    \n",
       "RazaoNoShowPaciente         1.784161   0.091450  19.510  < 2e-16 ***\n",
       "---\n",
       "Signif. codes:  0 ‘***’ 0.001 ‘**’ 0.01 ‘*’ 0.05 ‘.’ 0.1 ‘ ’ 1\n",
       "\n",
       "(Dispersion parameter for binomial family taken to be 1)\n",
       "\n",
       "    Null deviance: 4231.0  on 4084  degrees of freedom\n",
       "Residual deviance: 2546.3  on 4067  degrees of freedom\n",
       "AIC: 2582.3\n",
       "\n",
       "Number of Fisher Scoring iterations: 12\n"
      ]
     },
     "metadata": {},
     "output_type": "display_data"
    }
   ],
   "source": [
    "fit\n",
    "summary(fit)"
   ]
  },
  {
   "cell_type": "code",
   "execution_count": 9,
   "metadata": {},
   "outputs": [],
   "source": [
    "# aplica o modelo para predição\n",
    "predict_test = predict(fit, newdata = noshowDs, type=\"raw\")"
   ]
  },
  {
   "cell_type": "code",
   "execution_count": 10,
   "metadata": {},
   "outputs": [
    {
     "data": {
      "text/plain": [
       "Confusion Matrix and Statistics\n",
       "\n",
       "          Reference\n",
       "Prediction TRUE FALSE\n",
       "     TRUE   474   396\n",
       "     FALSE  121  3094\n",
       "                                          \n",
       "               Accuracy : 0.8734          \n",
       "                 95% CI : (0.8629, 0.8835)\n",
       "    No Information Rate : 0.8543          \n",
       "    P-Value [Acc > NIR] : 0.0002346       \n",
       "                                          \n",
       "                  Kappa : 0.5733          \n",
       "                                          \n",
       " Mcnemar's Test P-Value : < 2.2e-16       \n",
       "                                          \n",
       "            Sensitivity : 0.7966          \n",
       "            Specificity : 0.8865          \n",
       "         Pos Pred Value : 0.5448          \n",
       "         Neg Pred Value : 0.9624          \n",
       "             Prevalence : 0.1457          \n",
       "         Detection Rate : 0.1160          \n",
       "   Detection Prevalence : 0.2130          \n",
       "      Balanced Accuracy : 0.8416          \n",
       "                                          \n",
       "       'Positive' Class : TRUE            \n",
       "                                          "
      ]
     },
     "metadata": {},
     "output_type": "display_data"
    }
   ],
   "source": [
    "caret::confusionMatrix(\n",
    "    factor(noshowDs$IsNoShow, levels = c(\"TRUE\", \"FALSE\")), \n",
    "    factor(predict_test, levels = c(\"TRUE\", \"FALSE\")), \n",
    "    positive = \"TRUE\"\n",
    ")"
   ]
  },
  {
   "cell_type": "code",
   "execution_count": 11,
   "metadata": {
    "scrolled": true
   },
   "outputs": [
    {
     "data": {
      "image/png": "[encoded data removed]",
      "text/plain": [
       "plot without title"
      ]
     },
     "metadata": {},
     "output_type": "display_data"
    }
   ],
   "source": [
    "# curva ROC\n",
    "pr <- prediction(as.numeric(predict_test), as.numeric(noshowDs$IsNoShow))\n",
    "prf <- performance(pr, measure = \"tpr\", x.measure = \"fpr\")\n",
    "plot(prf, colorize = TRUE)"
   ]
  },
  {
   "cell_type": "code",
   "execution_count": 12,
   "metadata": {},
   "outputs": [
    {
     "data": {
      "text/html": [
       "0.75359575266799"
      ],
      "text/latex": [
       "0.75359575266799"
      ],
      "text/markdown": [
       "0.75359575266799"
      ],
      "text/plain": [
       "[1] 0.7535958"
      ]
     },
     "metadata": {},
     "output_type": "display_data"
    }
   ],
   "source": [
    "# Area under ROC curve \n",
    "auc=performance(pr, measure=\"auc\")\n",
    "auc=auc@y.values[[1]]\n",
    "auc"
   ]
  },
  {
   "cell_type": "markdown",
   "metadata": {},
   "source": [
    "### Exploração do modelo"
   ]
  },
  {
   "cell_type": "code",
   "execution_count": 13,
   "metadata": {},
   "outputs": [
    {
     "data": {
      "text/plain": [
       "\n",
       "Call:\n",
       "NULL\n",
       "\n",
       "Deviance Residuals: \n",
       "    Min       1Q   Median       3Q      Max  \n",
       "-2.2240  -0.4084  -0.3416  -0.2901   2.5766  \n",
       "\n",
       "Coefficients:\n",
       "                            Estimate Std. Error z value Pr(>|z|)    \n",
       "(Intercept)                -1.683167   0.232737  -7.232 4.76e-13 ***\n",
       "Idade                      -0.001786   0.053649  -0.033   0.9734    \n",
       "GeneroPacienteM             0.041632   0.051054   0.815   0.4148    \n",
       "IsPacienteUnicoAtendimento  0.007235   0.073677   0.098   0.9218    \n",
       "IsNovoPacienteTRUE          0.027248   0.057629   0.473   0.6363    \n",
       "LeadTime                    0.115835   0.053721   2.156   0.0311 *  \n",
       "Mes                         0.072559   0.052359   1.386   0.1658    \n",
       "DiaSemana                   0.122098   0.052507   2.325   0.0201 *  \n",
       "Hora                       -0.032440   0.052815  -0.614   0.5391    \n",
       "IsPacientePossuiFoneTRUE   -0.261208   8.337194  -0.031   0.9750    \n",
       "QtdRedesSociais            -0.077629   0.055291  -1.404   0.1603    \n",
       "IsPacientePossuiEmailTRUE  -0.006755   0.051767  -0.130   0.8962    \n",
       "IsParticularTRUE            0.100311   0.053098   1.889   0.0589 .  \n",
       "GeneroExecutanteM          -0.117767   0.051732  -2.276   0.0228 *  \n",
       "GeneroExecutanteN           0.014775   0.045593   0.324   0.7459    \n",
       "QtdNoShowPaciente           0.114918   0.073458   1.564   0.1177    \n",
       "QtdAgendamentosPaciente    -0.087231   0.089702  -0.972   0.3308    \n",
       "RazaoNoShowPaciente         1.784161   0.091450  19.510  < 2e-16 ***\n",
       "---\n",
       "Signif. codes:  0 ‘***’ 0.001 ‘**’ 0.01 ‘*’ 0.05 ‘.’ 0.1 ‘ ’ 1\n",
       "\n",
       "(Dispersion parameter for binomial family taken to be 1)\n",
       "\n",
       "    Null deviance: 4231.0  on 4084  degrees of freedom\n",
       "Residual deviance: 2546.3  on 4067  degrees of freedom\n",
       "AIC: 2582.3\n",
       "\n",
       "Number of Fisher Scoring iterations: 12\n"
      ]
     },
     "metadata": {},
     "output_type": "display_data"
    }
   ],
   "source": [
    "# visualização do modelo\n",
    "summary(fit)"
   ]
  },
  {
   "cell_type": "code",
   "execution_count": 14,
   "metadata": {},
   "outputs": [
    {
     "data": {
      "text/html": [
       "<dl class=dl-horizontal>\n",
       "\t<dt>(Intercept)</dt>\n",
       "\t\t<dd>0.185784617233129</dd>\n",
       "\t<dt>Idade</dt>\n",
       "\t\t<dd>0.998215191813167</dd>\n",
       "\t<dt>GeneroPacienteM</dt>\n",
       "\t\t<dd>1.04251026369848</dd>\n",
       "\t<dt>IsPacienteUnicoAtendimento</dt>\n",
       "\t\t<dd>1.00726173402967</dd>\n",
       "\t<dt>IsNovoPacienteTRUE</dt>\n",
       "\t\t<dd>1.02762260875992</dd>\n",
       "\t<dt>LeadTime</dt>\n",
       "\t\t<dd>1.12281070180626</dd>\n",
       "\t<dt>Mes</dt>\n",
       "\t\t<dd>1.07525654455179</dd>\n",
       "\t<dt>DiaSemana</dt>\n",
       "\t\t<dd>1.12986488000323</dd>\n",
       "\t<dt>Hora</dt>\n",
       "\t\t<dd>0.968080236943838</dd>\n",
       "\t<dt>IsPacientePossuiFoneTRUE</dt>\n",
       "\t\t<dd>0.770120366680465</dd>\n",
       "\t<dt>QtdRedesSociais</dt>\n",
       "\t\t<dd>0.925307796954049</dd>\n",
       "\t<dt>IsPacientePossuiEmailTRUE</dt>\n",
       "\t\t<dd>0.993268036700179</dd>\n",
       "\t<dt>IsParticularTRUE</dt>\n",
       "\t\t<dd>1.10551449351522</dd>\n",
       "\t<dt>GeneroExecutanteM</dt>\n",
       "\t\t<dd>0.888903577621662</dd>\n",
       "\t<dt>GeneroExecutanteN</dt>\n",
       "\t\t<dd>1.0148841987989</dd>\n",
       "\t<dt>QtdNoShowPaciente</dt>\n",
       "\t\t<dd>1.12178113466579</dd>\n",
       "\t<dt>QtdAgendamentosPaciente</dt>\n",
       "\t\t<dd>0.91646497167188</dd>\n",
       "\t<dt>RazaoNoShowPaciente</dt>\n",
       "\t\t<dd>5.95458323698455</dd>\n",
       "</dl>\n"
      ],
      "text/latex": [
       "\\begin{description*}\n",
       "\\item[(Intercept)] 0.185784617233129\n",
       "\\item[Idade] 0.998215191813167\n",
       "\\item[GeneroPacienteM] 1.04251026369848\n",
       "\\item[IsPacienteUnicoAtendimento] 1.00726173402967\n",
       "\\item[IsNovoPacienteTRUE] 1.02762260875992\n",
       "\\item[LeadTime] 1.12281070180626\n",
       "\\item[Mes] 1.07525654455179\n",
       "\\item[DiaSemana] 1.12986488000323\n",
       "\\item[Hora] 0.968080236943838\n",
       "\\item[IsPacientePossuiFoneTRUE] 0.770120366680465\n",
       "\\item[QtdRedesSociais] 0.925307796954049\n",
       "\\item[IsPacientePossuiEmailTRUE] 0.993268036700179\n",
       "\\item[IsParticularTRUE] 1.10551449351522\n",
       "\\item[GeneroExecutanteM] 0.888903577621662\n",
       "\\item[GeneroExecutanteN] 1.0148841987989\n",
       "\\item[QtdNoShowPaciente] 1.12178113466579\n",
       "\\item[QtdAgendamentosPaciente] 0.91646497167188\n",
       "\\item[RazaoNoShowPaciente] 5.95458323698455\n",
       "\\end{description*}\n"
      ],
      "text/markdown": [
       "(Intercept)\n",
       ":   0.185784617233129Idade\n",
       ":   0.998215191813167GeneroPacienteM\n",
       ":   1.04251026369848IsPacienteUnicoAtendimento\n",
       ":   1.00726173402967IsNovoPacienteTRUE\n",
       ":   1.02762260875992LeadTime\n",
       ":   1.12281070180626Mes\n",
       ":   1.07525654455179DiaSemana\n",
       ":   1.12986488000323Hora\n",
       ":   0.968080236943838IsPacientePossuiFoneTRUE\n",
       ":   0.770120366680465QtdRedesSociais\n",
       ":   0.925307796954049IsPacientePossuiEmailTRUE\n",
       ":   0.993268036700179IsParticularTRUE\n",
       ":   1.10551449351522GeneroExecutanteM\n",
       ":   0.888903577621662GeneroExecutanteN\n",
       ":   1.0148841987989QtdNoShowPaciente\n",
       ":   1.12178113466579QtdAgendamentosPaciente\n",
       ":   0.91646497167188RazaoNoShowPaciente\n",
       ":   5.95458323698455\n",
       "\n"
      ],
      "text/plain": [
       "               (Intercept)                      Idade \n",
       "                 0.1857846                  0.9982152 \n",
       "           GeneroPacienteM IsPacienteUnicoAtendimento \n",
       "                 1.0425103                  1.0072617 \n",
       "        IsNovoPacienteTRUE                   LeadTime \n",
       "                 1.0276226                  1.1228107 \n",
       "                       Mes                  DiaSemana \n",
       "                 1.0752565                  1.1298649 \n",
       "                      Hora   IsPacientePossuiFoneTRUE \n",
       "                 0.9680802                  0.7701204 \n",
       "           QtdRedesSociais  IsPacientePossuiEmailTRUE \n",
       "                 0.9253078                  0.9932680 \n",
       "          IsParticularTRUE          GeneroExecutanteM \n",
       "                 1.1055145                  0.8889036 \n",
       "         GeneroExecutanteN          QtdNoShowPaciente \n",
       "                 1.0148842                  1.1217811 \n",
       "   QtdAgendamentosPaciente        RazaoNoShowPaciente \n",
       "                 0.9164650                  5.9545832 "
      ]
     },
     "metadata": {},
     "output_type": "display_data"
    }
   ],
   "source": [
    "# transformação sobre os parâmetros do modelo\n",
    "exp(fit$finalModel$coefficients)"
   ]
  },
  {
   "cell_type": "code",
   "execution_count": 15,
   "metadata": {},
   "outputs": [
    {
     "data": {
      "text/plain": [
       "glm variable importance\n",
       "\n",
       "                            Overall\n",
       "RazaoNoShowPaciente        19.50978\n",
       "DiaSemana                   2.32536\n",
       "GeneroExecutanteM           2.27647\n",
       "LeadTime                    2.15625\n",
       "IsParticularTRUE            1.88917\n",
       "QtdNoShowPaciente           1.56439\n",
       "QtdRedesSociais             1.40399\n",
       "Mes                         1.38579\n",
       "QtdAgendamentosPaciente     0.97246\n",
       "GeneroPacienteM             0.81544\n",
       "Hora                        0.61422\n",
       "IsNovoPacienteTRUE          0.47282\n",
       "GeneroExecutanteN           0.32405\n",
       "IsPacientePossuiEmailTRUE   0.13048\n",
       "IsPacienteUnicoAtendimento  0.09821\n",
       "Idade                       0.03330\n",
       "IsPacientePossuiFoneTRUE    0.03133"
      ]
     },
     "metadata": {},
     "output_type": "display_data"
    }
   ],
   "source": [
    "varImp(fit, scale = FALSE)"
   ]
  },
  {
   "cell_type": "markdown",
   "metadata": {},
   "source": [
    "### Teste em um novo conjunto de dados"
   ]
  },
  {
   "cell_type": "code",
   "execution_count": 16,
   "metadata": {},
   "outputs": [],
   "source": [
    "nome_arquivo <- \"noshow_201808\"\n",
    "noshowDs <- read.csv(paste(nome_arquivo, \".csv\", sep = \"\"), sep = \";\", header = TRUE, fileEncoding = \"ISO-8859-1\")"
   ]
  },
  {
   "cell_type": "code",
   "execution_count": 17,
   "metadata": {
    "scrolled": true
   },
   "outputs": [
    {
     "data": {
      "text/html": [
       "<ol class=list-inline>\n",
       "\t<li>592</li>\n",
       "\t<li>45</li>\n",
       "</ol>\n"
      ],
      "text/latex": [
       "\\begin{enumerate*}\n",
       "\\item 592\n",
       "\\item 45\n",
       "\\end{enumerate*}\n"
      ],
      "text/markdown": [
       "1. 592\n",
       "2. 45\n",
       "\n",
       "\n"
      ],
      "text/plain": [
       "[1] 592  45"
      ]
     },
     "metadata": {},
     "output_type": "display_data"
    }
   ],
   "source": [
    "# dimensões do dataset\n",
    "dim(noshowDs)"
   ]
  },
  {
   "cell_type": "code",
   "execution_count": 18,
   "metadata": {},
   "outputs": [],
   "source": [
    "# seleciona 100 elementos para o teste\n",
    "T <- sample(1:nrow(noshowDs), 100)\n",
    "noshowDs <- noshowDs[T, ]"
   ]
  },
  {
   "cell_type": "code",
   "execution_count": 19,
   "metadata": {
    "scrolled": true
   },
   "outputs": [
    {
     "data": {
      "text/html": [
       "<table>\n",
       "<caption>A data.frame: 6 × 45</caption>\n",
       "<thead>\n",
       "\t<tr><th></th><th scope=col>IsNoShow</th><th scope=col>DataNascimento</th><th scope=col>Idade</th><th scope=col>GeneroPaciente</th><th scope=col>IsPacienteUnicoAtendimento</th><th scope=col>IsNovoPaciente</th><th scope=col>Profissao</th><th scope=col>LeadTime</th><th scope=col>Mes</th><th scope=col>DiaSemana</th><th scope=col>⋯</th><th scope=col>GeneroExecutante</th><th scope=col>IsProcedimentoComJejum</th><th scope=col>IsProcedimentoComPreparacao</th><th scope=col>IsTodosExamesMesmaUnidade</th><th scope=col>IsAgendamentoComNecessidadesEspeciais</th><th scope=col>Perguntas</th><th scope=col>PerguntasDescricao</th><th scope=col>Respostas</th><th scope=col>QtdNoShowPaciente</th><th scope=col>QtdAgendamentosPaciente</th></tr>\n",
       "\t<tr><th></th><th scope=col>&lt;int&gt;</th><th scope=col>&lt;fct&gt;</th><th scope=col>&lt;int&gt;</th><th scope=col>&lt;fct&gt;</th><th scope=col>&lt;int&gt;</th><th scope=col>&lt;int&gt;</th><th scope=col>&lt;fct&gt;</th><th scope=col>&lt;int&gt;</th><th scope=col>&lt;int&gt;</th><th scope=col>&lt;int&gt;</th><th scope=col>⋯</th><th scope=col>&lt;fct&gt;</th><th scope=col>&lt;int&gt;</th><th scope=col>&lt;int&gt;</th><th scope=col>&lt;int&gt;</th><th scope=col>&lt;int&gt;</th><th scope=col>&lt;fct&gt;</th><th scope=col>&lt;fct&gt;</th><th scope=col>&lt;fct&gt;</th><th scope=col>&lt;int&gt;</th><th scope=col>&lt;int&gt;</th></tr>\n",
       "</thead>\n",
       "<tbody>\n",
       "\t<tr><th scope=row>546</th><td>0</td><td>2011-11-19</td><td> 9</td><td>F</td><td>0</td><td>0</td><td>null                </td><td>1</td><td>8</td><td>4</td><td>⋯</td><td>M</td><td>0</td><td>1</td><td>0</td><td>0</td><td>null</td><td>null</td><td>null</td><td>0</td><td> 3</td></tr>\n",
       "\t<tr><th scope=row>451</th><td>0</td><td>1947-08-16</td><td>73</td><td>F</td><td>0</td><td>0</td><td>MEDICO ORTOMOLECULAR</td><td>1</td><td>8</td><td>5</td><td>⋯</td><td>F</td><td>0</td><td>1</td><td>0</td><td>0</td><td>null</td><td>null</td><td>null</td><td>0</td><td> 9</td></tr>\n",
       "\t<tr><th scope=row>108</th><td>0</td><td>1923-08-19</td><td>97</td><td>F</td><td>1</td><td>1</td><td>null                </td><td>3</td><td>8</td><td>3</td><td>⋯</td><td>M</td><td>0</td><td>1</td><td>0</td><td>0</td><td>null</td><td>null</td><td>null</td><td>0</td><td> 1</td></tr>\n",
       "\t<tr><th scope=row>166</th><td>0</td><td>1924-02-27</td><td>96</td><td>F</td><td>0</td><td>0</td><td>MEDICO ORTOMOLECULAR</td><td>1</td><td>8</td><td>4</td><td>⋯</td><td>M</td><td>0</td><td>1</td><td>0</td><td>0</td><td>null</td><td>null</td><td>null</td><td>2</td><td>11</td></tr>\n",
       "\t<tr><th scope=row>220</th><td>0</td><td>1926-09-26</td><td>94</td><td>F</td><td>0</td><td>0</td><td>null                </td><td>4</td><td>8</td><td>7</td><td>⋯</td><td>M</td><td>0</td><td>1</td><td>0</td><td>0</td><td>null</td><td>null</td><td>null</td><td>1</td><td> 4</td></tr>\n",
       "\t<tr><th scope=row>234</th><td>0</td><td>1927-10-16</td><td>93</td><td>F</td><td>0</td><td>0</td><td>null                </td><td>3</td><td>8</td><td>2</td><td>⋯</td><td>M</td><td>0</td><td>1</td><td>0</td><td>0</td><td>null</td><td>null</td><td>null</td><td>2</td><td>16</td></tr>\n",
       "</tbody>\n",
       "</table>\n"
      ],
      "text/latex": [
       "A data.frame: 6 × 45\n",
       "\\begin{tabular}{r|lllllllllllllllllllllllllllllllllllllllllllll}\n",
       "  & IsNoShow & DataNascimento & Idade & GeneroPaciente & IsPacienteUnicoAtendimento & IsNovoPaciente & Profissao & LeadTime & Mes & DiaSemana & Hora & EnderecoCidadeUnidade & EnderecoBairroUnidade & EnderecoCepUnidade & EnderecoCidadePaciente & EnderecoBairroPaciente & EnderecoCepPaciente & EstacaoAno & IsPacientePossuiFone & IsVip & IsEmancipado & QtdRedesSociais & IsEncaixe & Segmento & IsPacientePossuiEmail & IsFeriado & IsParticular & EspecialidadeSolicitante & IsIndicacaoMedica & Procedimento & ProcedimentoMnemonico & ProcedimentoDescricao & Setor & SetorDescricao & IsAgendamentoPossuiExecutante & GeneroExecutante & IsProcedimentoComJejum & IsProcedimentoComPreparacao & IsTodosExamesMesmaUnidade & IsAgendamentoComNecessidadesEspeciais & Perguntas & PerguntasDescricao & Respostas & QtdNoShowPaciente & QtdAgendamentosPaciente\\\\\n",
       "  & <int> & <fct> & <int> & <fct> & <int> & <int> & <fct> & <int> & <int> & <int> & <fct> & <fct> & <fct> & <fct> & <fct> & <fct> & <fct> & <int> & <int> & <fct> & <fct> & <int> & <int> & <int> & <int> & <int> & <int> & <fct> & <int> & <int> & <fct> & <fct> & <int> & <fct> & <int> & <fct> & <int> & <int> & <int> & <int> & <fct> & <fct> & <fct> & <int> & <int>\\\\\n",
       "\\hline\n",
       "\t546 & 0 & 2011-11-19 &  9 & F & 0 & 0 & null                 & 1 & 8 & 4 & 08:30:00 & null & null & null & São Gonçalo & Paraíso       & null & 2 & 1 & null & 0 & 1 & 0 & 1 & 0 & 0 & 0 & N.A & 0 & 883 & HGR & HEMOGRAMA COMPLETO AUTOMATIZADO & 20 & Hemato - Cell Dyn & 1 & M & 0 & 1 & 0 & 0 & null & null & null & 0 &  3\\\\\n",
       "\t451 & 0 & 1947-08-16 & 73 & F & 0 & 0 & MEDICO ORTOMOLECULAR & 1 & 8 & 5 & 08:30:00 & null & null & null & Niterói     & Icaraí        & null & 2 & 1 & null & 0 & 0 & 0 & 1 & 0 & 0 & 0 & N.A & 0 & 883 & HGR & HEMOGRAMA COMPLETO AUTOMATIZADO & 20 & Hemato - Cell Dyn & 1 & F & 0 & 1 & 0 & 0 & null & null & null & 0 &  9\\\\\n",
       "\t108 & 0 & 1923-08-19 & 97 & F & 1 & 1 & null                 & 3 & 8 & 3 & 06:30:00 & null & null & null & Niterói     & Icaraí        & null & 2 & 1 & null & 0 & 1 & 0 & 1 & 0 & 0 & 0 & N.A & 0 & 883 & HGR & HEMOGRAMA COMPLETO AUTOMATIZADO & 20 & Hemato - Cell Dyn & 1 & M & 0 & 1 & 0 & 0 & null & null & null & 0 &  1\\\\\n",
       "\t166 & 0 & 1924-02-27 & 96 & F & 0 & 0 & MEDICO ORTOMOLECULAR & 1 & 8 & 4 & 11:00:00 & null & null & null & Niterói     & Ingá          & null & 2 & 1 & null & 0 & 0 & 0 & 1 & 0 & 0 & 0 & N.A & 0 & 883 & HGR & HEMOGRAMA COMPLETO AUTOMATIZADO & 20 & Hemato - Cell Dyn & 1 & M & 0 & 1 & 0 & 0 & null & null & null & 2 & 11\\\\\n",
       "\t220 & 0 & 1926-09-26 & 94 & F & 0 & 0 & null                 & 4 & 8 & 7 & 07:00:00 & null & null & null & São Gonçalo & Venda da Cruz & null & 2 & 1 & null & 0 & 1 & 0 & 1 & 0 & 0 & 0 & N.A & 0 & 883 & HGR & HEMOGRAMA COMPLETO AUTOMATIZADO & 20 & Hemato - Cell Dyn & 1 & M & 0 & 1 & 0 & 0 & null & null & null & 1 &  4\\\\\n",
       "\t234 & 0 & 1927-10-16 & 93 & F & 0 & 0 & null                 & 3 & 8 & 2 & 06:30:00 & null & null & null & Niterói     & Icaraí        & null & 2 & 1 & null & 0 & 0 & 0 & 1 & 0 & 0 & 0 & N.A & 0 & 883 & HGR & HEMOGRAMA COMPLETO AUTOMATIZADO & 20 & Hemato - Cell Dyn & 1 & M & 0 & 1 & 0 & 0 & null & null & null & 2 & 16\\\\\n",
       "\\end{tabular}\n"
      ],
      "text/markdown": [
       "\n",
       "A data.frame: 6 × 45\n",
       "\n",
       "| <!--/--> | IsNoShow &lt;int&gt; | DataNascimento &lt;fct&gt; | Idade &lt;int&gt; | GeneroPaciente &lt;fct&gt; | IsPacienteUnicoAtendimento &lt;int&gt; | IsNovoPaciente &lt;int&gt; | Profissao &lt;fct&gt; | LeadTime &lt;int&gt; | Mes &lt;int&gt; | DiaSemana &lt;int&gt; | ⋯ ⋯ | GeneroExecutante &lt;fct&gt; | IsProcedimentoComJejum &lt;int&gt; | IsProcedimentoComPreparacao &lt;int&gt; | IsTodosExamesMesmaUnidade &lt;int&gt; | IsAgendamentoComNecessidadesEspeciais &lt;int&gt; | Perguntas &lt;fct&gt; | PerguntasDescricao &lt;fct&gt; | Respostas &lt;fct&gt; | QtdNoShowPaciente &lt;int&gt; | QtdAgendamentosPaciente &lt;int&gt; |\n",
       "|---|---|---|---|---|---|---|---|---|---|---|---|---|---|---|---|---|---|---|---|---|---|\n",
       "| 546 | 0 | 2011-11-19 |  9 | F | 0 | 0 | null                 | 1 | 8 | 4 | ⋯ | M | 0 | 1 | 0 | 0 | null | null | null | 0 |  3 |\n",
       "| 451 | 0 | 1947-08-16 | 73 | F | 0 | 0 | MEDICO ORTOMOLECULAR | 1 | 8 | 5 | ⋯ | F | 0 | 1 | 0 | 0 | null | null | null | 0 |  9 |\n",
       "| 108 | 0 | 1923-08-19 | 97 | F | 1 | 1 | null                 | 3 | 8 | 3 | ⋯ | M | 0 | 1 | 0 | 0 | null | null | null | 0 |  1 |\n",
       "| 166 | 0 | 1924-02-27 | 96 | F | 0 | 0 | MEDICO ORTOMOLECULAR | 1 | 8 | 4 | ⋯ | M | 0 | 1 | 0 | 0 | null | null | null | 2 | 11 |\n",
       "| 220 | 0 | 1926-09-26 | 94 | F | 0 | 0 | null                 | 4 | 8 | 7 | ⋯ | M | 0 | 1 | 0 | 0 | null | null | null | 1 |  4 |\n",
       "| 234 | 0 | 1927-10-16 | 93 | F | 0 | 0 | null                 | 3 | 8 | 2 | ⋯ | M | 0 | 1 | 0 | 0 | null | null | null | 2 | 16 |\n",
       "\n"
      ],
      "text/plain": [
       "    IsNoShow DataNascimento Idade GeneroPaciente IsPacienteUnicoAtendimento\n",
       "546 0        2011-11-19      9    F              0                         \n",
       "451 0        1947-08-16     73    F              0                         \n",
       "108 0        1923-08-19     97    F              1                         \n",
       "166 0        1924-02-27     96    F              0                         \n",
       "220 0        1926-09-26     94    F              0                         \n",
       "234 0        1927-10-16     93    F              0                         \n",
       "    IsNovoPaciente Profissao            LeadTime Mes DiaSemana ⋯\n",
       "546 0              null                 1        8   4         ⋯\n",
       "451 0              MEDICO ORTOMOLECULAR 1        8   5         ⋯\n",
       "108 1              null                 3        8   3         ⋯\n",
       "166 0              MEDICO ORTOMOLECULAR 1        8   4         ⋯\n",
       "220 0              null                 4        8   7         ⋯\n",
       "234 0              null                 3        8   2         ⋯\n",
       "    GeneroExecutante IsProcedimentoComJejum IsProcedimentoComPreparacao\n",
       "546 M                0                      1                          \n",
       "451 F                0                      1                          \n",
       "108 M                0                      1                          \n",
       "166 M                0                      1                          \n",
       "220 M                0                      1                          \n",
       "234 M                0                      1                          \n",
       "    IsTodosExamesMesmaUnidade IsAgendamentoComNecessidadesEspeciais Perguntas\n",
       "546 0                         0                                     null     \n",
       "451 0                         0                                     null     \n",
       "108 0                         0                                     null     \n",
       "166 0                         0                                     null     \n",
       "220 0                         0                                     null     \n",
       "234 0                         0                                     null     \n",
       "    PerguntasDescricao Respostas QtdNoShowPaciente QtdAgendamentosPaciente\n",
       "546 null               null      0                  3                     \n",
       "451 null               null      0                  9                     \n",
       "108 null               null      0                  1                     \n",
       "166 null               null      2                 11                     \n",
       "220 null               null      1                  4                     \n",
       "234 null               null      2                 16                     "
      ]
     },
     "metadata": {},
     "output_type": "display_data"
    },
    {
     "data": {
      "text/html": [
       "<table>\n",
       "<caption>A data.frame: 6 × 45</caption>\n",
       "<thead>\n",
       "\t<tr><th></th><th scope=col>IsNoShow</th><th scope=col>DataNascimento</th><th scope=col>Idade</th><th scope=col>GeneroPaciente</th><th scope=col>IsPacienteUnicoAtendimento</th><th scope=col>IsNovoPaciente</th><th scope=col>Profissao</th><th scope=col>LeadTime</th><th scope=col>Mes</th><th scope=col>DiaSemana</th><th scope=col>⋯</th><th scope=col>GeneroExecutante</th><th scope=col>IsProcedimentoComJejum</th><th scope=col>IsProcedimentoComPreparacao</th><th scope=col>IsTodosExamesMesmaUnidade</th><th scope=col>IsAgendamentoComNecessidadesEspeciais</th><th scope=col>Perguntas</th><th scope=col>PerguntasDescricao</th><th scope=col>Respostas</th><th scope=col>QtdNoShowPaciente</th><th scope=col>QtdAgendamentosPaciente</th></tr>\n",
       "\t<tr><th></th><th scope=col>&lt;int&gt;</th><th scope=col>&lt;fct&gt;</th><th scope=col>&lt;int&gt;</th><th scope=col>&lt;fct&gt;</th><th scope=col>&lt;int&gt;</th><th scope=col>&lt;int&gt;</th><th scope=col>&lt;fct&gt;</th><th scope=col>&lt;int&gt;</th><th scope=col>&lt;int&gt;</th><th scope=col>&lt;int&gt;</th><th scope=col>⋯</th><th scope=col>&lt;fct&gt;</th><th scope=col>&lt;int&gt;</th><th scope=col>&lt;int&gt;</th><th scope=col>&lt;int&gt;</th><th scope=col>&lt;int&gt;</th><th scope=col>&lt;fct&gt;</th><th scope=col>&lt;fct&gt;</th><th scope=col>&lt;fct&gt;</th><th scope=col>&lt;int&gt;</th><th scope=col>&lt;int&gt;</th></tr>\n",
       "</thead>\n",
       "<tbody>\n",
       "\t<tr><th scope=row>464</th><td>1</td><td>1941-09-03</td><td>79</td><td>F</td><td>0</td><td>0</td><td>MEDICO ORTOMOLECULAR</td><td>1</td><td>8</td><td>6</td><td>⋯</td><td>M</td><td>0</td><td>1</td><td>0</td><td>0</td><td>null</td><td>null</td><td>null</td><td> 4</td><td> 4</td></tr>\n",
       "\t<tr><th scope=row>281</th><td>0</td><td>1999-03-22</td><td>21</td><td>F</td><td>1</td><td>1</td><td>MEDICO ORTOMOLECULAR</td><td>6</td><td>8</td><td>3</td><td>⋯</td><td>F</td><td>0</td><td>1</td><td>0</td><td>0</td><td>null</td><td>null</td><td>null</td><td> 0</td><td> 1</td></tr>\n",
       "\t<tr><th scope=row>30</th><td>0</td><td>1931-05-09</td><td>89</td><td>F</td><td>0</td><td>0</td><td>MEDICO ORTOMOLECULAR</td><td>1</td><td>8</td><td>5</td><td>⋯</td><td>M</td><td>0</td><td>1</td><td>0</td><td>0</td><td>null</td><td>null</td><td>null</td><td> 0</td><td> 3</td></tr>\n",
       "\t<tr><th scope=row>442</th><td>1</td><td>1942-10-13</td><td>78</td><td>F</td><td>1</td><td>1</td><td>null                </td><td>6</td><td>8</td><td>5</td><td>⋯</td><td>M</td><td>0</td><td>1</td><td>0</td><td>0</td><td>null</td><td>null</td><td>null</td><td> 1</td><td> 1</td></tr>\n",
       "\t<tr><th scope=row>532</th><td>0</td><td>1950-05-16</td><td>70</td><td>F</td><td>0</td><td>0</td><td>null                </td><td>1</td><td>8</td><td>3</td><td>⋯</td><td>F</td><td>0</td><td>1</td><td>0</td><td>0</td><td>null</td><td>null</td><td>null</td><td> 0</td><td> 3</td></tr>\n",
       "\t<tr><th scope=row>360</th><td>1</td><td>1934-03-12</td><td>86</td><td>F</td><td>0</td><td>0</td><td>null                </td><td>4</td><td>8</td><td>6</td><td>⋯</td><td>F</td><td>0</td><td>1</td><td>0</td><td>0</td><td>null</td><td>null</td><td>null</td><td>13</td><td>29</td></tr>\n",
       "</tbody>\n",
       "</table>\n"
      ],
      "text/latex": [
       "A data.frame: 6 × 45\n",
       "\\begin{tabular}{r|lllllllllllllllllllllllllllllllllllllllllllll}\n",
       "  & IsNoShow & DataNascimento & Idade & GeneroPaciente & IsPacienteUnicoAtendimento & IsNovoPaciente & Profissao & LeadTime & Mes & DiaSemana & Hora & EnderecoCidadeUnidade & EnderecoBairroUnidade & EnderecoCepUnidade & EnderecoCidadePaciente & EnderecoBairroPaciente & EnderecoCepPaciente & EstacaoAno & IsPacientePossuiFone & IsVip & IsEmancipado & QtdRedesSociais & IsEncaixe & Segmento & IsPacientePossuiEmail & IsFeriado & IsParticular & EspecialidadeSolicitante & IsIndicacaoMedica & Procedimento & ProcedimentoMnemonico & ProcedimentoDescricao & Setor & SetorDescricao & IsAgendamentoPossuiExecutante & GeneroExecutante & IsProcedimentoComJejum & IsProcedimentoComPreparacao & IsTodosExamesMesmaUnidade & IsAgendamentoComNecessidadesEspeciais & Perguntas & PerguntasDescricao & Respostas & QtdNoShowPaciente & QtdAgendamentosPaciente\\\\\n",
       "  & <int> & <fct> & <int> & <fct> & <int> & <int> & <fct> & <int> & <int> & <int> & <fct> & <fct> & <fct> & <fct> & <fct> & <fct> & <fct> & <int> & <int> & <fct> & <fct> & <int> & <int> & <int> & <int> & <int> & <int> & <fct> & <int> & <int> & <fct> & <fct> & <int> & <fct> & <int> & <fct> & <int> & <int> & <int> & <int> & <fct> & <fct> & <fct> & <int> & <int>\\\\\n",
       "\\hline\n",
       "\t464 & 1 & 1941-09-03 & 79 & F & 0 & 0 & MEDICO ORTOMOLECULAR & 1 & 8 & 6 & 06:00:00 & null & null & null & Niterói & Icaraí     & null & 2 & 1 & null & 0 & 0 & 0 & 1 & 0 & 0 & 0 & N.A & 0 & 883 & HGR & HEMOGRAMA COMPLETO AUTOMATIZADO & 20 & Hemato - Cell Dyn & 1 & M & 0 & 1 & 0 & 0 & null & null & null &  4 &  4\\\\\n",
       "\t281 & 0 & 1999-03-22 & 21 & F & 1 & 1 & MEDICO ORTOMOLECULAR & 6 & 8 & 3 & 11:00:00 & null & null & null & Niterói & Icaraí     & null & 2 & 1 & null & 0 & 0 & 0 & 1 & 0 & 0 & 0 & N.A & 0 & 883 & HGR & HEMOGRAMA COMPLETO AUTOMATIZADO & 20 & Hemato - Cell Dyn & 1 & F & 0 & 1 & 0 & 0 & null & null & null &  0 &  1\\\\\n",
       "\t30 & 0 & 1931-05-09 & 89 & F & 0 & 0 & MEDICO ORTOMOLECULAR & 1 & 8 & 5 & 07:30:00 & null & null & null & Niterói & Centro     & null & 2 & 1 & null & 0 & 0 & 0 & 1 & 0 & 0 & 0 & N.A & 0 & 883 & HGR & HEMOGRAMA COMPLETO AUTOMATIZADO & 20 & Hemato - Cell Dyn & 1 & M & 0 & 1 & 0 & 0 & null & null & null &  0 &  3\\\\\n",
       "\t442 & 1 & 1942-10-13 & 78 & F & 1 & 1 & null                 & 6 & 8 & 5 & 07:00:00 & null & null & null & Niterói & Fonseca    & null & 2 & 1 & null & 0 & 0 & 0 & 1 & 0 & 0 & 0 & N.A & 0 & 883 & HGR & HEMOGRAMA COMPLETO AUTOMATIZADO & 20 & Hemato - Cell Dyn & 1 & M & 0 & 1 & 0 & 0 & null & null & null &  1 &  1\\\\\n",
       "\t532 & 0 & 1950-05-16 & 70 & F & 0 & 0 & null                 & 1 & 8 & 3 & 08:30:00 & null & null & null & Niterói & Icaraí     & null & 2 & 1 & null & 0 & 1 & 0 & 1 & 0 & 0 & 0 & N.A & 0 & 883 & HGR & HEMOGRAMA COMPLETO AUTOMATIZADO & 20 & Hemato - Cell Dyn & 1 & F & 0 & 1 & 0 & 0 & null & null & null &  0 &  3\\\\\n",
       "\t360 & 1 & 1934-03-12 & 86 & F & 0 & 0 & null                 & 4 & 8 & 6 & 10:30:00 & null & null & null & Niterói & Pe Pequeno & null & 2 & 1 & null & 0 & 1 & 0 & 1 & 0 & 0 & 0 & N.A & 0 & 883 & HGR & HEMOGRAMA COMPLETO AUTOMATIZADO & 20 & Hemato - Cell Dyn & 1 & F & 0 & 1 & 0 & 0 & null & null & null & 13 & 29\\\\\n",
       "\\end{tabular}\n"
      ],
      "text/markdown": [
       "\n",
       "A data.frame: 6 × 45\n",
       "\n",
       "| <!--/--> | IsNoShow &lt;int&gt; | DataNascimento &lt;fct&gt; | Idade &lt;int&gt; | GeneroPaciente &lt;fct&gt; | IsPacienteUnicoAtendimento &lt;int&gt; | IsNovoPaciente &lt;int&gt; | Profissao &lt;fct&gt; | LeadTime &lt;int&gt; | Mes &lt;int&gt; | DiaSemana &lt;int&gt; | ⋯ ⋯ | GeneroExecutante &lt;fct&gt; | IsProcedimentoComJejum &lt;int&gt; | IsProcedimentoComPreparacao &lt;int&gt; | IsTodosExamesMesmaUnidade &lt;int&gt; | IsAgendamentoComNecessidadesEspeciais &lt;int&gt; | Perguntas &lt;fct&gt; | PerguntasDescricao &lt;fct&gt; | Respostas &lt;fct&gt; | QtdNoShowPaciente &lt;int&gt; | QtdAgendamentosPaciente &lt;int&gt; |\n",
       "|---|---|---|---|---|---|---|---|---|---|---|---|---|---|---|---|---|---|---|---|---|---|\n",
       "| 464 | 1 | 1941-09-03 | 79 | F | 0 | 0 | MEDICO ORTOMOLECULAR | 1 | 8 | 6 | ⋯ | M | 0 | 1 | 0 | 0 | null | null | null |  4 |  4 |\n",
       "| 281 | 0 | 1999-03-22 | 21 | F | 1 | 1 | MEDICO ORTOMOLECULAR | 6 | 8 | 3 | ⋯ | F | 0 | 1 | 0 | 0 | null | null | null |  0 |  1 |\n",
       "| 30 | 0 | 1931-05-09 | 89 | F | 0 | 0 | MEDICO ORTOMOLECULAR | 1 | 8 | 5 | ⋯ | M | 0 | 1 | 0 | 0 | null | null | null |  0 |  3 |\n",
       "| 442 | 1 | 1942-10-13 | 78 | F | 1 | 1 | null                 | 6 | 8 | 5 | ⋯ | M | 0 | 1 | 0 | 0 | null | null | null |  1 |  1 |\n",
       "| 532 | 0 | 1950-05-16 | 70 | F | 0 | 0 | null                 | 1 | 8 | 3 | ⋯ | F | 0 | 1 | 0 | 0 | null | null | null |  0 |  3 |\n",
       "| 360 | 1 | 1934-03-12 | 86 | F | 0 | 0 | null                 | 4 | 8 | 6 | ⋯ | F | 0 | 1 | 0 | 0 | null | null | null | 13 | 29 |\n",
       "\n"
      ],
      "text/plain": [
       "    IsNoShow DataNascimento Idade GeneroPaciente IsPacienteUnicoAtendimento\n",
       "464 1        1941-09-03     79    F              0                         \n",
       "281 0        1999-03-22     21    F              1                         \n",
       "30  0        1931-05-09     89    F              0                         \n",
       "442 1        1942-10-13     78    F              1                         \n",
       "532 0        1950-05-16     70    F              0                         \n",
       "360 1        1934-03-12     86    F              0                         \n",
       "    IsNovoPaciente Profissao            LeadTime Mes DiaSemana ⋯\n",
       "464 0              MEDICO ORTOMOLECULAR 1        8   6         ⋯\n",
       "281 1              MEDICO ORTOMOLECULAR 6        8   3         ⋯\n",
       "30  0              MEDICO ORTOMOLECULAR 1        8   5         ⋯\n",
       "442 1              null                 6        8   5         ⋯\n",
       "532 0              null                 1        8   3         ⋯\n",
       "360 0              null                 4        8   6         ⋯\n",
       "    GeneroExecutante IsProcedimentoComJejum IsProcedimentoComPreparacao\n",
       "464 M                0                      1                          \n",
       "281 F                0                      1                          \n",
       "30  M                0                      1                          \n",
       "442 M                0                      1                          \n",
       "532 F                0                      1                          \n",
       "360 F                0                      1                          \n",
       "    IsTodosExamesMesmaUnidade IsAgendamentoComNecessidadesEspeciais Perguntas\n",
       "464 0                         0                                     null     \n",
       "281 0                         0                                     null     \n",
       "30  0                         0                                     null     \n",
       "442 0                         0                                     null     \n",
       "532 0                         0                                     null     \n",
       "360 0                         0                                     null     \n",
       "    PerguntasDescricao Respostas QtdNoShowPaciente QtdAgendamentosPaciente\n",
       "464 null               null       4                 4                     \n",
       "281 null               null       0                 1                     \n",
       "30  null               null       0                 3                     \n",
       "442 null               null       1                 1                     \n",
       "532 null               null       0                 3                     \n",
       "360 null               null      13                29                     "
      ]
     },
     "metadata": {},
     "output_type": "display_data"
    },
    {
     "data": {
      "text/plain": [
       "    IsNoShow       DataNascimento     Idade        GeneroPaciente\n",
       " Min.   :0.00   1939-02-28: 2     Min.   :  2.00   F:73          \n",
       " 1st Qu.:0.00   2018-08-16: 2     1st Qu.: 66.75   M:27          \n",
       " Median :0.00   1917-10-27: 1     Median : 80.00                 \n",
       " Mean   :0.17   1918-05-30: 1     Mean   : 72.89                 \n",
       " 3rd Qu.:0.00   1923-08-19: 1     3rd Qu.: 90.00                 \n",
       " Max.   :1.00   1924-02-27: 1     Max.   :103.00                 \n",
       "                (Other)   :92                                    \n",
       " IsPacienteUnicoAtendimento IsNovoPaciente                Profissao \n",
       " Min.   :0.00               Min.   :0.00   Médico              : 1  \n",
       " 1st Qu.:0.00               1st Qu.:0.00   MEDICO ORTOMOLECULAR:61  \n",
       " Median :0.00               Median :0.00   null                :38  \n",
       " Mean   :0.25               Mean   :0.29                            \n",
       " 3rd Qu.:0.25               3rd Qu.:1.00                            \n",
       " Max.   :1.00               Max.   :1.00                            \n",
       "                                                                    \n",
       "    LeadTime          Mes      DiaSemana          Hora    EnderecoCidadeUnidade\n",
       " Min.   : 0.00   Min.   :8   Min.   :2.00   07:00:00:15   null:100             \n",
       " 1st Qu.: 1.00   1st Qu.:8   1st Qu.:3.00   06:30:00: 9                        \n",
       " Median : 2.00   Median :8   Median :4.00   08:00:00: 9                        \n",
       " Mean   : 2.73   Mean   :8   Mean   :4.32   07:30:00: 8                        \n",
       " 3rd Qu.: 4.00   3rd Qu.:8   3rd Qu.:6.00   08:30:00: 8                        \n",
       " Max.   :11.00   Max.   :8   Max.   :7.00   09:00:00: 8                        \n",
       "                                            (Other) :43                        \n",
       " EnderecoBairroUnidade EnderecoCepUnidade EnderecoCidadePaciente\n",
       " null:100              null:100           Niterói    :83        \n",
       "                                          null       : 3        \n",
       "                                          São Gonçalo:14        \n",
       "                                                                \n",
       "                                                                \n",
       "                                                                \n",
       "                                                                \n",
       " EnderecoBairroPaciente EnderecoCepPaciente   EstacaoAno IsPacientePossuiFone\n",
       " Icaraí :28             58814000: 1         Min.   :2    Min.   :1           \n",
       " Fonseca:11             null    :99         1st Qu.:2    1st Qu.:1           \n",
       " Centro :10                                 Median :2    Median :1           \n",
       " Ingá   : 9                                 Mean   :2    Mean   :1           \n",
       " null   : 6                                 3rd Qu.:2    3rd Qu.:1           \n",
       " Barreto: 5                                 Max.   :2    Max.   :1           \n",
       " (Other):31                                                                  \n",
       "  IsVip     IsEmancipado QtdRedesSociais   IsEncaixe    Segmento\n",
       " null:100   0   :96      Min.   :0.00    Min.   :0   Min.   :1  \n",
       "            null: 4      1st Qu.:0.00    1st Qu.:0   1st Qu.:1  \n",
       "                         Median :0.00    Median :0   Median :1  \n",
       "                         Mean   :0.33    Mean   :0   Mean   :1  \n",
       "                         3rd Qu.:1.00    3rd Qu.:0   3rd Qu.:1  \n",
       "                         Max.   :1.00    Max.   :0   Max.   :1  \n",
       "                                                                \n",
       " IsPacientePossuiEmail   IsFeriado  IsParticular  EspecialidadeSolicitante\n",
       " Min.   :0.00          Min.   :0   Min.   :0.00   N.A:100                 \n",
       " 1st Qu.:0.00          1st Qu.:0   1st Qu.:0.00                           \n",
       " Median :0.00          Median :0   Median :0.00                           \n",
       " Mean   :0.07          Mean   :0   Mean   :0.02                           \n",
       " 3rd Qu.:0.00          3rd Qu.:0   3rd Qu.:0.00                           \n",
       " Max.   :1.00          Max.   :0   Max.   :1.00                           \n",
       "                                                                          \n",
       " IsIndicacaoMedica  Procedimento ProcedimentoMnemonico\n",
       " Min.   :0         Min.   :883   HGR:100              \n",
       " 1st Qu.:0         1st Qu.:883                        \n",
       " Median :0         Median :883                        \n",
       " Mean   :0         Mean   :883                        \n",
       " 3rd Qu.:0         3rd Qu.:883                        \n",
       " Max.   :0         Max.   :883                        \n",
       "                                                      \n",
       "                     ProcedimentoDescricao     Setor   \n",
       " HEMOGRAMA COMPLETO AUTOMATIZADO:100       Min.   :20  \n",
       "                                           1st Qu.:20  \n",
       "                                           Median :20  \n",
       "                                           Mean   :20  \n",
       "                                           3rd Qu.:20  \n",
       "                                           Max.   :20  \n",
       "                                                       \n",
       "           SetorDescricao IsAgendamentoPossuiExecutante GeneroExecutante\n",
       " Hemato - Cell Dyn:100    Min.   :1                     F:32            \n",
       "                          1st Qu.:1                     M:68            \n",
       "                          Median :1                                     \n",
       "                          Mean   :1                                     \n",
       "                          3rd Qu.:1                                     \n",
       "                          Max.   :1                                     \n",
       "                                                                        \n",
       " IsProcedimentoComJejum IsProcedimentoComPreparacao IsTodosExamesMesmaUnidade\n",
       " Min.   :0              Min.   :1                   Min.   :0                \n",
       " 1st Qu.:0              1st Qu.:1                   1st Qu.:0                \n",
       " Median :0              Median :1                   Median :0                \n",
       " Mean   :0              Mean   :1                   Mean   :0                \n",
       " 3rd Qu.:0              3rd Qu.:1                   3rd Qu.:0                \n",
       " Max.   :0              Max.   :1                   Max.   :0                \n",
       "                                                                             \n",
       " IsAgendamentoComNecessidadesEspeciais Perguntas  PerguntasDescricao Respostas \n",
       " Min.   :0                             null:100   null:100           null:100  \n",
       " 1st Qu.:0                                                                     \n",
       " Median :0                                                                     \n",
       " Mean   :0                                                                     \n",
       " 3rd Qu.:0                                                                     \n",
       " Max.   :0                                                                     \n",
       "                                                                               \n",
       " QtdNoShowPaciente QtdAgendamentosPaciente\n",
       " Min.   : 0.00     Min.   : 1.00          \n",
       " 1st Qu.: 0.00     1st Qu.: 1.75          \n",
       " Median : 0.00     Median : 3.00          \n",
       " Mean   : 0.61     Mean   : 4.57          \n",
       " 3rd Qu.: 1.00     3rd Qu.: 5.25          \n",
       " Max.   :13.00     Max.   :36.00          \n",
       "                                          "
      ]
     },
     "metadata": {},
     "output_type": "display_data"
    }
   ],
   "source": [
    "head(noshowDs)\n",
    "tail(noshowDs)\n",
    "summary(noshowDs)"
   ]
  },
  {
   "cell_type": "code",
   "execution_count": 20,
   "metadata": {},
   "outputs": [],
   "source": [
    "# remoção de colunas que não serão utilizadas na modelagem\n",
    "col_excluir <- c(\n",
    "    \"DataNascimento\",\n",
    "    \"EnderecoCidadeUnidade\", \"EnderecoBairroUnidade\", \"EnderecoCepUnidade\",\n",
    "    \"EnderecoCidadePaciente\", \"EnderecoBairroPaciente\", \"EnderecoCepPaciente\",\n",
    "    \"Profissao\", \"IsEmancipado\", \"EspecialidadeSolicitante\", \"ProcedimentoMnemonico\", \n",
    "    \"Procedimento\", \"ProcedimentoDescricao\", \"Setor\", \"SetorDescricao\",\n",
    "    \"IsVip\", \"Perguntas\", \"PerguntasDescricao\", \"Respostas\", \"Segmento\", \"IsFeriado\",\n",
    "    # não estavam deixando o modelo convergir...\n",
    "    \"EstacaoAno\",\"IsEncaixe\",\"IsIndicacaoMedica\",\"IsProcedimentoComJejum\", \"IsProcedimentoComPreparacao\",\n",
    "    \"IsTodosExamesMesmaUnidade\", \"IsAgendamentoComNecessidadesEspeciais\", \"IsAgendamentoPossuiExecutante\"\n",
    ")\n",
    "noshowDs <- noshowDs[!(names(noshowDs) %in% col_excluir)]"
   ]
  },
  {
   "cell_type": "code",
   "execution_count": 21,
   "metadata": {},
   "outputs": [],
   "source": [
    "# transforma todas as string \"null\" em NA\n",
    "noshowDs[noshowDs == \"null\"] <- NA\n",
    "#noshowDs[noshowDs$GeneroExecutante == \"N\",] <- NA\n",
    "noshowDs <- na.omit(noshowDs)"
   ]
  },
  {
   "cell_type": "code",
   "execution_count": 22,
   "metadata": {},
   "outputs": [],
   "source": [
    "# transformação da coluna de horário em numérico\n",
    "# calcula a quantidade de segundos a partir de 00:00:00\n",
    "tmp1 <- paste(Sys.Date(), \" \", noshowDs$Hora)\n",
    "tmp2 <- as.POSIXct(tmp1)\n",
    "tmp3 <- as.POSIXct(paste(Sys.Date(), \" 00:00:00\"))\n",
    "noshowDs$Hora <- as.numeric(tmp2) - as.numeric(tmp3)"
   ]
  },
  {
   "cell_type": "code",
   "execution_count": 23,
   "metadata": {},
   "outputs": [],
   "source": [
    "# transforma todas as colunas 0/1 em FALSE/TRUE\n",
    "bool_columns <- c(\n",
    "    \"IsNoShow\", \"IsNovoPaciente\", \"IsPacientePossuiFone\", \"IsPacientePossuiEmail\", \"IsParticular\"\n",
    ")\n",
    "noshowDs[bool_columns] <- noshowDs[bool_columns] == 1"
   ]
  },
  {
   "cell_type": "code",
   "execution_count": 24,
   "metadata": {},
   "outputs": [],
   "source": [
    "# cria uma coluna com a razão de no-show do paciente\n",
    "noshowDs[\"RazaoNoShowPaciente\"] <- noshowDs[\"QtdNoShowPaciente\"] / noshowDs[\"QtdAgendamentosPaciente\"]"
   ]
  },
  {
   "cell_type": "code",
   "execution_count": 25,
   "metadata": {},
   "outputs": [],
   "source": [
    "# aplica o modelo para predição\n",
    "predict_test = predict(fit, newdata = noshowDs, type=\"raw\")"
   ]
  },
  {
   "cell_type": "code",
   "execution_count": 26,
   "metadata": {},
   "outputs": [
    {
     "data": {
      "text/plain": [
       "Confusion Matrix and Statistics\n",
       "\n",
       "          Reference\n",
       "Prediction TRUE FALSE\n",
       "     TRUE     5     3\n",
       "     FALSE   12    80\n",
       "                                          \n",
       "               Accuracy : 0.85            \n",
       "                 95% CI : (0.7647, 0.9135)\n",
       "    No Information Rate : 0.83            \n",
       "    P-Value [Acc > NIR] : 0.35422         \n",
       "                                          \n",
       "                  Kappa : 0.3268          \n",
       "                                          \n",
       " Mcnemar's Test P-Value : 0.03887         \n",
       "                                          \n",
       "            Sensitivity : 0.2941          \n",
       "            Specificity : 0.9639          \n",
       "         Pos Pred Value : 0.6250          \n",
       "         Neg Pred Value : 0.8696          \n",
       "             Prevalence : 0.1700          \n",
       "         Detection Rate : 0.0500          \n",
       "   Detection Prevalence : 0.0800          \n",
       "      Balanced Accuracy : 0.6290          \n",
       "                                          \n",
       "       'Positive' Class : TRUE            \n",
       "                                          "
      ]
     },
     "metadata": {},
     "output_type": "display_data"
    }
   ],
   "source": [
    "# Matriz de confusão do modelo e acurácia do modelo\n",
    "cm <- caret::confusionMatrix(\n",
    "    factor(predict_test, levels = c(\"TRUE\", \"FALSE\")), \n",
    "    factor(noshowDs$IsNoShow, levels = c(\"TRUE\", \"FALSE\")), \n",
    "    positive = \"TRUE\"\n",
    ")\n",
    "cm"
   ]
  },
  {
   "cell_type": "code",
   "execution_count": 27,
   "metadata": {
    "scrolled": false
   },
   "outputs": [
    {
     "data": {
      "image/png": "[encoded data removed]",
      "text/plain": [
       "Plot with title “Color Key”"
      ]
     },
     "metadata": {},
     "output_type": "display_data"
    }
   ],
   "source": [
    "x <- matrix(as.numeric(predict_test) - as.numeric(noshowDs$IsNoShow) - 1, nrow = 10, ncol = 10)\n",
    "xval <- x\n",
    "xval[xval == 0] <- \"OK\"\n",
    "xval[xval == -1] <- \"FN\"\n",
    "xval[xval == 1] <- \"FP\"\n",
    "pal <- c(\"yellow\", \"green\", \"red\") #colorRampPalette(c(rgb(0.96,0.96,1), rgb(0.1,0.1,0.9)), space = \"rgb\")\n",
    "heatmap.2(\n",
    "    x,\n",
    "    Rowv=FALSE, Colv=FALSE, dendrogram=\"none\", \n",
    "    col=pal, tracecol=\"#303030\", trace=\"none\", cellnote=xval, \n",
    "    density.info = \"none\", \n",
    "    notecol=\"black\", notecex=0.8, keysize = 1.5, margins=c(5, 5)\n",
    ")"
   ]
  },
  {
   "cell_type": "code",
   "execution_count": 28,
   "metadata": {
    "scrolled": true
   },
   "outputs": [
    {
     "data": {
      "image/png": "[encoded data removed]",
      "text/plain": [
       "Plot with title “Color Key”"
      ]
     },
     "metadata": {},
     "output_type": "display_data"
    }
   ],
   "source": [
    "x <- matrix(as.numeric(predict_test == noshowDs$IsNoShow), nrow = 10, ncol = 10)\n",
    "xval <- x == 1 #formatC(x, format=\"f\", digits=2)\n",
    "pal <- c(\"red\",\"green\") #colorRampPalette(c(rgb(0.96,0.96,1), rgb(0.1,0.1,0.9)), space = \"rgb\")\n",
    "heatmap.2(\n",
    "    x,\n",
    "    Rowv=FALSE, Colv=FALSE, dendrogram=\"none\", \n",
    "    col=pal, tracecol=\"#303030\", trace=\"none\", cellnote=xval, \n",
    "    density.info = \"none\", \n",
    "    notecol=\"black\", notecex=0.8, keysize = 1.5, margins=c(5, 5)\n",
    ")"
   ]
  },
  {
   "cell_type": "code",
   "execution_count": null,
   "metadata": {},
   "outputs": [],
   "source": []
  }
 ],
 "metadata": {
  "kernelspec": {
   "display_name": "R",
   "language": "R",
   "name": "ir"
  },
  "language_info": {
   "codemirror_mode": "r",
   "file_extension": ".r",
   "mimetype": "text/x-r-source",
   "name": "R",
   "pygments_lexer": "r",
   "version": "3.6.1"
  }
 },
 "nbformat": 4,
 "nbformat_minor": 2
}
